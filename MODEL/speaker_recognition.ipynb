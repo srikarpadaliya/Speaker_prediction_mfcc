{
  "nbformat": 4,
  "nbformat_minor": 0,
  "metadata": {
    "colab": {
      "provenance": []
    },
    "kernelspec": {
      "name": "python3",
      "display_name": "Python 3"
    },
    "language_info": {
      "name": "python"
    }
  },
  "cells": [
    {
      "cell_type": "code",
      "execution_count": null,
      "metadata": {
        "colab": {
          "base_uri": "https://localhost:8080/"
        },
        "id": "kGi2CF5lLzcI",
        "outputId": "77acd114-8248-42e6-d37c-00367dbb08b8"
      },
      "outputs": [
        {
          "output_type": "stream",
          "name": "stdout",
          "text": [
            "Archive:  /content/drive/MyDrive/finaldataset.zip\n",
            "replace /content/drive/MyDrive/finaldataset/finaldataset/Benjamin_Netanyau/0.wav? [y]es, [n]o, [A]ll, [N]one, [r]ename: "
          ]
        }
      ],
      "source": [
        "!unzip /content/drive/MyDrive/finaldataset -d /content/drive/MyDrive/finaldataset"
      ]
    },
    {
      "cell_type": "markdown",
      "source": [
        "# Accesing subfolder "
      ],
      "metadata": {
        "id": "mSorESvgksw-"
      }
    },
    {
      "cell_type": "code",
      "source": [
        "folder = '/content/drive/MyDrive/finaldataset'\n"
      ],
      "metadata": {
        "id": "G2nF3bRKOUPp"
      },
      "execution_count": 1,
      "outputs": []
    },
    {
      "cell_type": "code",
      "source": [
        "import os\n",
        "os.listdir(folder)"
      ],
      "metadata": {
        "colab": {
          "base_uri": "https://localhost:8080/"
        },
        "id": "sMtFq-owOiJo",
        "outputId": "796c5d09-4433-4012-f401-a401743968ec"
      },
      "execution_count": 2,
      "outputs": [
        {
          "output_type": "execute_result",
          "data": {
            "text/plain": [
              "['Magaret_Tarcher',\n",
              " 'Benjamin_Netanyau',\n",
              " 'Nelson_Mandela',\n",
              " 'Julia_Gillard',\n",
              " 'Jens_Stoltenberg',\n",
              " 'finaldataset']"
            ]
          },
          "metadata": {},
          "execution_count": 2
        }
      ]
    },
    {
      "cell_type": "code",
      "source": [
        "import librosa\n",
        "import IPython.display as ipd\n",
        "import numpy as np"
      ],
      "metadata": {
        "id": "gK7LpLn8Ompa"
      },
      "execution_count": 3,
      "outputs": []
    },
    {
      "cell_type": "code",
      "source": [
        "audiopath1 = '/content/drive/MyDrive/finaldataset/finaldataset/Benjamin_Netanyau'\n",
        "audiopath2 = '/content/drive/MyDrive/finaldataset/finaldataset/Jens_Stoltenberg'\n",
        "audiopath3 = '/content/drive/MyDrive/finaldataset/finaldataset/Julia_Gillard'\n",
        "audiopath4 = '/content/drive/MyDrive/finaldataset/finaldataset/Nelson_Mandela'\n",
        "audiopath5 = '/content/drive/MyDrive/finaldataset/finaldataset/Magaret_Tarcher'\n",
        "\n",
        "for root , dirs , files in os.walk(audiopath1):\n",
        "  print(files)"
      ],
      "metadata": {
        "colab": {
          "base_uri": "https://localhost:8080/"
        },
        "id": "v3xdf76vOrG3",
        "outputId": "e24b5db0-434a-47d3-b9ba-1f542c2f5d55"
      },
      "execution_count": 4,
      "outputs": [
        {
          "output_type": "stream",
          "name": "stdout",
          "text": [
            "['194.wav', '1428.wav', '193.wav', '1393.wav', '232.wav', '1381.wav', '1360.wav', '1328.wav', '179.wav', '1425.wav', '1427.wav', '1394.wav', '1342.wav', '177.wav', '1403.wav', '134.wav', '219.wav', '1469.wav', '1408.wav', '1472.wav', '143.wav', '201.wav', '156.wav', '1420.wav', '1357.wav', '1461.wav', '1405.wav', '1446.wav', '1411.wav', '136.wav', '1338.wav', '190.wav', '1400.wav', '1355.wav', '189.wav', '1478.wav', '230.wav', '1340.wav', '1392.wav', '1380.wav', '1453.wav', '1349.wav', '196.wav', '137.wav', '1332.wav', '1442.wav', '1454.wav', '181.wav', '1370.wav', '1499.wav', '183.wav', '1457.wav', '1479.wav', '1371.wav', '1364.wav', '165.wav', '204.wav', '210.wav', '1494.wav', '1359.wav', '1485.wav', '150.wav', '212.wav', '1474.wav', '152.wav', '2.wav', '23.wav', '172.wav', '1343.wav', '1447.wav', '151.wav', '1367.wav', '1497.wav', '1495.wav', '178.wav', '18.wav', '133.wav', '203.wav', '1391.wav', '1435.wav', '1397.wav', '1464.wav', '1468.wav', '1395.wav', '1476.wav', '1444.wav', '1358.wav', '139.wav', '1383.wav', '1346.wav', '1434.wav', '218.wav', '1386.wav', '1387.wav', '1475.wav', '192.wav', '147.wav', '1417.wav', '138.wav', '1377.wav', '1335.wav', '1438.wav', '19.wav', '225.wav', '231.wav', '166.wav', '1324.wav', '1365.wav', '1379.wav', '1439.wav', '1353.wav', '1363.wav', '217.wav', '185.wav', '199.wav', '1351.wav', '1372.wav', '148.wav', '182.wav', '228.wav', '236.wav', '195.wav', '1336.wav', '211.wav', '140.wav', '144.wav', '1482.wav', '1449.wav', '1450.wav', '200.wav', '235.wav', '1347.wav', '186.wav', '226.wav', '157.wav', '1490.wav', '160.wav', '154.wav', '1354.wav', '173.wav', '1409.wav', '222.wav', '206.wav', '1327.wav', '163.wav', '1459.wav', '1486.wav', '1483.wav', '14.wav', '207.wav', '175.wav', '16.wav', '221.wav', '1445.wav', '1374.wav', '1410.wav', '721.wav', '269.wav', '443.wav', '780.wav', '361.wav', '523.wav', '84.wav', '583.wav', '500.wav', '477.wav', '679.wav', '849.wav', '747.wav', '724.wav', '486.wav', '553.wav', '764.wav', '641.wav', '264.wav', '775.wav', '367.wav', '36.wav', '557.wav', '423.wav', '295.wav', '848.wav', '44.wav', '677.wav', '249.wav', '702.wav', '472.wav', '80.wav', '739.wav', '649.wav', '698.wav', '544.wav', '309.wav', '447.wav', '409.wav', '736.wav', '32.wav', '432.wav', '85.wav', '404.wav', '31.wav', '549.wav', '276.wav', '529.wav', '460.wav', '768.wav', '422.wav', '261.wav', '53.wav', '328.wav', '647.wav', '799.wav', '631.wav', '428.wav', '329.wav', '810.wav', '351.wav', '717.wav', '502.wav', '318.wav', '268.wav', '556.wav', '766.wav', '59.wav', '758.wav', '757.wav', '481.wav', '646.wav', '70.wav', '35.wav', '451.wav', '673.wav', '493.wav', '450.wav', '296.wav', '240.wav', '653.wav', '388.wav', '599.wav', '689.wav', '479.wav', '693.wav', '331.wav', '674.wav', '301.wav', '384.wav', '74.wav', '706.wav', '685.wav', '659.wav', '394.wav', '490.wav', '397.wav', '315.wav', '703.wav', '528.wav', '784.wav', '833.wav', '819.wav', '608.wav', '343.wav', '621.wav', '808.wav', '441.wav', '809.wav', '636.wav', '534.wav', '416.wav', '5.wav', '536.wav', '597.wav', '515.wav', '694.wav', '565.wav', '576.wav', '254.wav', '551.wav', '839.wav', '643.wav', '786.wav', '483.wav', '335.wav', '46.wav', '803.wav', '601.wav', '266.wav', '292.wav', '532.wav', '313.wav', '688.wav', '573.wav', '425.wav', '550.wav', '591.wav', '353.wav', '498.wav', '37.wav', '558.wav', '668.wav', '453.wav', '271.wav', '63.wav', '603.wav', '595.wav', '275.wav', '366.wav', '580.wav', '680.wav', '602.wav', '600.wav', '733.wav', '607.wav', '754.wav', '568.wav', '325.wav', '396.wav', '466.wav', '760.wav', '62.wav', '762.wav', '638.wav', '387.wav', '381.wav', '614.wav', '738.wav', '364.wav', '412.wav', '50.wav', '496.wav', '68.wav', '778.wav', '830.wav', '834.wav', '540.wav', '590.wav', '634.wav', '462.wav', '664.wav', '495.wav', '323.wav', '594.wav', '306.wav', '582.wav', '356.wav', '435.wav', '510.wav', '752.wav', '284.wav', '373.wav', '633.wav', '77.wav', '836.wav', '781.wav', '570.wav', '527.wav', '644.wav', '505.wav', '41.wav', '796.wav', '452.wav', '43.wav', '347.wav', '543.wav', '279.wav', '657.wav', '726.wav', '667.wav', '678.wav', '280.wav', '293.wav', '420.wav', '508.wav', '566.wav', '586.wav', '790.wav', '509.wav', '615.wav', '38.wav', '473.wav', '345.wav', '72.wav', '281.wav', '714.wav', '665.wav', '444.wav', '378.wav', '637.wav', '642.wav', '274.wav', '697.wav', '302.wav', '71.wav', '737.wav', '49.wav', '713.wav', '322.wav', '7.wav', '681.wav', '605.wav', '338.wav', '521.wav', '24.wav', '802.wav', '358.wav', '27.wav', '648.wav', '341.wav', '426.wav', '850.wav', '829.wav', '743.wav', '516.wav', '658.wav', '581.wav', '439.wav', '304.wav', '305.wav', '57.wav', '791.wav', '542.wav', '56.wav', '312.wav', '740.wav', '569.wav', '375.wav', '28.wav', '537.wav', '828.wav', '669.wav', '507.wav', '252.wav', '514.wav', '712.wav', '465.wav', '438.wav', '789.wav', '821.wav', '654.wav', '371.wav', '365.wav', '632.wav', '613.wav', '482.wav', '635.wav', '25.wav', '405.wav', '390.wav', '539.wav', '286.wav', '307.wav', '298.wav', '297.wav', '69.wav', '818.wav', '806.wav', '561.wav', '692.wav', '715.wav', '604.wav', '245.wav', '525.wav', '75.wav', '513.wav', '506.wav', '4.wav', '382.wav', '360.wav', '579.wav', '320.wav', '389.wav', '683.wav', '770.wav', '797.wav', '430.wav', '675.wav', '52.wav', '670.wav', '251.wav', '250.wav', '734.wav', '398.wav', '310.wav', '392.wav', '368.wav', '655.wav', '572.wav', '289.wav', '824.wav', '526.wav', '349.wav', '840.wav', '242.wav', '755.wav', '413.wav', '592.wav', '831.wav', '386.wav', '845.wav', '278.wav', '324.wav', '617.wav', '545.wav', '587.wav', '578.wav', '348.wav', '701.wav', '299.wav', '546.wav', '624.wav', '783.wav', '455.wav', '427.wav', '478.wav', '772.wav', '26.wav', '691.wav', '795.wav', '763.wav', '436.wav', '494.wav', '330.wav', '719.wav', '501.wav', '584.wav', '497.wav', '533.wav', '6.wav', '552.wav', '401.wav', '567.wav', '729.wav', '463.wav', '746.wav', '265.wav', '765.wav', '650.wav', '66.wav', '247.wav', '825.wav', '421.wav', '517.wav', '779.wav', '753.wav', '407.wav', '767.wav', '340.wav', '827.wav', '288.wav', '563.wav', '777.wav', '662.wav', '745.wav', '710.wav', '742.wav', '51.wav', '362.wav', '272.wav', '487.wav', '449.wav', '410.wav', '291.wav', '445.wav', '618.wav', '308.wav', '334.wav', '804.wav', '464.wav', '377.wav', '504.wav', '321.wav', '406.wav', '440.wav', '531.wav', '585.wav', '287.wav', '588.wav', '559.wav', '259.wav', '769.wav', '337.wav', '538.wav', '79.wav', '369.wav', '357.wav', '239.wav', '687.wav', '262.wav', '593.wav', '562.wav', '759.wav', '660.wav', '448.wav', '611.wav', '408.wav', '248.wav', '731.wav', '67.wav', '774.wav', '489.wav', '735.wav', '442.wav', '723.wav', '327.wav', '609.wav', '812.wav', '34.wav', '741.wav', '564.wav', '847.wav', '720.wav', '437.wav', '42.wav', '256.wav', '822.wav', '277.wav', '317.wav', '782.wav', '816.wav', '267.wav', '645.wav', '728.wav', '393.wav', '541.wav', '718.wav', '417.wav', '725.wav', '640.wav', '29.wav', '316.wav', '843.wav', '55.wav', '699.wav', '771.wav', '805.wav', '253.wav', '794.wav', '379.wav', '811.wav', '30.wav', '260.wav', '346.wav', '400.wav', '257.wav', '530.wav', '630.wav', '555.wav', '73.wav', '372.wav', '469.wav', '792.wav', '511.wav', '519.wav', '846.wav', '826.wav', '476.wav', '838.wav', '61.wav', '793.wav', '33.wav', '342.wav', '76.wav', '480.wav', '773.wav', '622.wav', '627.wav', '756.wav', '385.wav', '522.wav', '467.wav', '294.wav', '54.wav', '524.wav', '807.wav', '468.wav', '418.wav', '399.wav', '820.wav', '270.wav', '832.wav', '64.wav', '83.wav', '395.wav', '491.wav', '246.wav', '470.wav', '801.wav', '815.wav', '45.wav', '243.wav', '535.wav', '749.wav', '40.wav', '314.wav', '48.wav', '383.wav', '255.wav', '798.wav', '446.wav', '785.wav', '823.wav', '244.wav', '620.wav', '704.wav', '474.wav', '414.wav', '512.wav', '290.wav', '841.wav', '639.wav', '370.wav', '616.wav', '732.wav', '684.wav', '708.wav', '454.wav', '458.wav', '625.wav', '282.wav', '666.wav', '661.wav', '380.wav', '319.wav', '554.wav', '355.wav', '744.wav', '716.wav', '78.wav', '484.wav', '598.wav', '835.wav', '722.wav', '761.wav', '344.wav', '776.wav', '47.wav', '730.wav', '431.wav', '403.wav', '326.wav', '751.wav', '459.wav', '548.wav', '359.wav', '391.wav', '672.wav', '606.wav', '434.wav', '709.wav', '575.wav', '629.wav', '711.wav', '39.wav', '332.wav', '285.wav', '663.wav', '628.wav', '352.wav', '700.wav', '419.wav', '844.wav', '814.wav', '577.wav', '339.wav', '402.wav', '750.wav', '682.wav', '376.wav', '303.wav', '60.wav', '429.wav', '457.wav', '81.wav', '619.wav', '424.wav', '571.wav', '560.wav', '499.wav', '748.wav', '547.wav', '311.wav', '411.wav', '842.wav', '300.wav', '705.wav', '354.wav', '263.wav', '374.wav', '333.wav', '456.wav', '813.wav', '574.wav', '475.wav', '82.wav', '596.wav', '492.wav', '518.wav', '727.wav', '817.wav', '350.wav', '283.wav', '488.wav', '800.wav', '8.wav', '671.wav', '652.wav', '787.wav', '258.wav', '707.wav', '273.wav', '686.wav', '336.wav', '3.wav', '65.wav', '788.wav', '623.wav', '837.wav', '589.wav', '676.wav', '503.wav', '485.wav', '696.wav', '363.wav', '690.wav', '651.wav', '610.wav', '612.wav', '461.wav', '415.wav', '695.wav', '471.wav', '433.wav', '626.wav', '58.wav', '241.wav', '656.wav', '520.wav', '892.wav', '886.wav', '856.wav', '99.wav', '914.wav', '949.wav', '925.wav', '855.wav', '937.wav', '973.wav', '998.wav', '92.wav', '927.wav', '884.wav', '926.wav', '999.wav', '936.wav', '889.wav', '930.wav', '972.wav', '978.wav', '920.wav', '866.wav', '943.wav', '905.wav', '938.wav', '974.wav', '859.wav', '906.wav', '897.wav', '960.wav', '908.wav', '912.wav', '982.wav', '91.wav', '918.wav', '958.wav', '940.wav', '90.wav', '860.wav', '894.wav', '977.wav', '992.wav', '931.wav', '941.wav', '97.wav', '93.wav', '975.wav', '875.wav', '902.wav', '878.wav', '935.wav', '893.wav', '980.wav', '952.wav', '879.wav', '858.wav', '9.wav', '946.wav', '867.wav', '953.wav', '955.wav', '881.wav', '882.wav', '876.wav', '967.wav', '880.wav', '903.wav', '923.wav', '874.wav', '885.wav', '898.wav', '900.wav', '995.wav', '929.wav', '933.wav', '948.wav', '919.wav', '966.wav', '890.wav', '945.wav', '870.wav', '939.wav', '970.wav', '857.wav', '873.wav', '964.wav', '922.wav', '951.wav', '932.wav', '956.wav', '872.wav', '997.wav', '991.wav', '965.wav', '993.wav', '895.wav', '915.wav', '954.wav', '96.wav', '869.wav', '87.wav', '94.wav', '994.wav', '988.wav', '976.wav', '98.wav', '990.wav', '947.wav', '934.wav', '983.wav', '944.wav', '942.wav', '901.wav', '913.wav', '979.wav', '986.wav', '862.wav', '985.wav', '962.wav', '89.wav', '921.wav', '916.wav', '911.wav', '852.wav', '868.wav', '883.wav', '899.wav', '909.wav', '928.wav', '896.wav', '851.wav', '957.wav', '877.wav', '961.wav', '987.wav', '861.wav', '924.wav', '989.wav', '950.wav', '984.wav', '88.wav', '907.wav', '968.wav', '871.wav', '891.wav', '888.wav', '963.wav', '854.wav', '86.wav', '887.wav', '910.wav', '996.wav', '863.wav', '917.wav', '971.wav', '969.wav', '904.wav', '864.wav', '981.wav', '95.wav', '959.wav', '865.wav', '853.wav', '1022.wav', '1002.wav', '1019.wav', '1010.wav', '101.wav', '1005.wav', '1006.wav', '100.wav', '1.wav', '1021.wav', '1016.wav', '1003.wav', '10.wav', '1008.wav', '1017.wav', '1000.wav', '1007.wav', '1001.wav', '1012.wav', '1013.wav', '1015.wav', '1011.wav', '0.wav', '1004.wav', '1018.wav', '1009.wav', '1014.wav', '102.wav', '1020.wav', '1037.wav', '1059.wav', '1083.wav', '1072.wav', '1067.wav', '1052.wav', '1080.wav', '1036.wav', '1049.wav', '1074.wav', '1030.wav', '1050.wav', '1056.wav', '1091.wav', '1046.wav', '1060.wav', '104.wav', '1025.wav', '1024.wav', '1078.wav', '1048.wav', '1035.wav', '1044.wav', '1065.wav', '1043.wav', '1062.wav', '1045.wav', '1063.wav', '1033.wav', '1058.wav', '1032.wav', '107.wav', '1042.wav', '1057.wav', '1071.wav', '1066.wav', '1068.wav', '1079.wav', '1026.wav', '1095.wav', '1087.wav', '103.wav', '1041.wav', '1089.wav', '1034.wav', '106.wav', '1038.wav', '1075.wav', '1040.wav', '1029.wav', '1084.wav', '108.wav', '105.wav', '1055.wav', '1039.wav', '1093.wav', '1064.wav', '1027.wav', '1061.wav', '1086.wav', '1094.wav', '109.wav', '1053.wav', '1085.wav', '1069.wav', '1076.wav', '1051.wav', '1047.wav', '1081.wav', '1077.wav', '1054.wav', '1028.wav', '1092.wav', '1073.wav', '1070.wav', '1088.wav', '1090.wav', '1031.wav', '1082.wav', '1023.wav', '1114.wav', '1106.wav', '1129.wav', '1109.wav', '1107.wav', '1099.wav', '1111.wav', '11.wav', '1124.wav', '1104.wav', '1105.wav', '1130.wav', '1123.wav', '1098.wav', '1110.wav', '1127.wav', '1096.wav', '1116.wav', '1102.wav', '1117.wav', '1119.wav', '113.wav', '1103.wav', '1122.wav', '1115.wav', '1112.wav', '1131.wav', '1097.wav', '1128.wav', '1121.wav', '1126.wav', '1120.wav', '1100.wav', '1101.wav', '1113.wav', '1108.wav', '1125.wav', '111.wav', '112.wav', '110.wav', '1118.wav', '1133.wav', '1149.wav', '1132.wav', '1146.wav', '1152.wav', '115.wav', '1161.wav', '1135.wav', '1157.wav', '1141.wav', '1145.wav', '1159.wav', '1154.wav', '1143.wav', '1142.wav', '1153.wav', '1134.wav', '1151.wav', '1165.wav', '1158.wav', '1138.wav', '1168.wav', '1164.wav', '1166.wav', '1160.wav', '1140.wav', '1144.wav', '1163.wav', '1136.wav', '1167.wav', '114.wav', '1162.wav', '1137.wav', '1156.wav', '1147.wav', '116.wav', '1155.wav', '1150.wav', '1139.wav', '1148.wav', '1173.wav', '1183.wav', '1205.wav', '1196.wav', '1195.wav', '1170.wav', '1171.wav', '1194.wav', '1217.wav', '1204.wav', '1172.wav', '1179.wav', '1214.wav', '1219.wav', '1212.wav', '1200.wav', '1198.wav', '1210.wav', '1207.wav', '119.wav', '1203.wav', '1169.wav', '1174.wav', '12.wav', '1213.wav', '1187.wav', '1175.wav', '1184.wav', '1211.wav', '1180.wav', '1192.wav', '1208.wav', '1176.wav', '1190.wav', '120.wav', '1186.wav', '1202.wav', '1189.wav', '1199.wav', '1191.wav', '1218.wav', '118.wav', '121.wav', '1178.wav', '1206.wav', '1197.wav', '117.wav', '1193.wav', '1177.wav', '1215.wav', '1181.wav', '1209.wav', '1201.wav', '1216.wav', '1188.wav', '1182.wav', '1185.wav', '1243.wav', '1227.wav', '1220.wav', '1251.wav', '1226.wav', '1247.wav', '1222.wav', '1228.wav', '1231.wav', '1230.wav', '1241.wav', '1229.wav', '1235.wav', '1234.wav', '1225.wav', '1221.wav', '1242.wav', '1223.wav', '1250.wav', '1253.wav', '1252.wav', '1248.wav', '1246.wav', '123.wav', '1240.wav', '1238.wav', '1244.wav', '124.wav', '1239.wav', '1245.wav', '122.wav', '1236.wav', '1233.wav', '1237.wav', '1224.wav', '1232.wav', '1255.wav', '1254.wav', '125.wav', '1249.wav', '1281.wav', '129.wav', '1271.wav', '1261.wav', '128.wav', '1269.wav', '1278.wav', '1277.wav', '1279.wav', '1288.wav', '1260.wav', '1287.wav', '1263.wav', '1285.wav', '1259.wav', '1272.wav', '1273.wav', '1267.wav', '1262.wav', '1286.wav', '127.wav', '1290.wav', '1264.wav', '1265.wav', '1274.wav', '1270.wav', '1291.wav', '1282.wav', '1289.wav', '126.wav', '1257.wav', '1283.wav', '1280.wav', '1276.wav', '1258.wav', '1268.wav', '1284.wav', '1275.wav', '1266.wav', '1256.wav', '1301.wav', '1304.wav', '132.wav', '1310.wav', '1303.wav', '1297.wav', '1293.wav', '1312.wav', '1320.wav', '1292.wav', '1307.wav', '1295.wav', '1298.wav', '1318.wav', '1308.wav', '1309.wav', '1294.wav', '1305.wav', '1296.wav', '1299.wav', '1316.wav', '13.wav', '1319.wav', '1321.wav', '1313.wav', '1311.wav', '131.wav', '1306.wav', '130.wav', '1315.wav', '1317.wav', '1300.wav', '1302.wav', '1314.wav', '17.wav', '233.wav', '1366.wav', '1369.wav', '1375.wav', '1362.wav', '135.wav', '149.wav', '223.wav', '145.wav', '1352.wav', '1441.wav', '1460.wav', '167.wav', '1356.wav', '1455.wav', '146.wav', '229.wav', '1399.wav', '198.wav', '1322.wav', '164.wav', '21.wav', '174.wav', '1463.wav', '238.wav', '1402.wav', '1416.wav', '1404.wav', '142.wav', '1415.wav', '162.wav', '237.wav', '1419.wav', '1418.wav', '1452.wav', '1489.wav', '159.wav', '1401.wav', '1443.wav', '176.wav', '1429.wav', '1382.wav', '205.wav', '141.wav', '1437.wav', '1329.wav', '1481.wav', '158.wav', '1488.wav', '1412.wav', '1350.wav', '1389.wav', '155.wav', '184.wav', '1330.wav', '1341.wav', '153.wav', '1345.wav', '224.wav', '1470.wav', '22.wav', '1436.wav', '1376.wav', '1407.wav', '187.wav', '227.wav', '1348.wav', '1398.wav', '1462.wav', '213.wav', '1477.wav', '1406.wav', '1493.wav', '1368.wav', '1473.wav', '234.wav', '1423.wav', '1333.wav', '1421.wav', '1422.wav', '191.wav', '215.wav', '1426.wav', '1344.wav', '169.wav', '180.wav', '1337.wav', '1496.wav', '1430.wav', '170.wav', '1361.wav', '1467.wav', '1390.wav', '1433.wav', '1388.wav', '1334.wav', '20.wav', '220.wav', '1440.wav', '171.wav', '188.wav', '214.wav', '1465.wav', '1396.wav', '202.wav', '1484.wav', '1466.wav', '1339.wav', '1498.wav', '1491.wav', '1448.wav', '1384.wav', '1325.wav', '1492.wav', '1487.wav', '161.wav', '1373.wav', '1432.wav', '197.wav', '1385.wav', '1323.wav', '1456.wav', '1451.wav', '1458.wav', '1378.wav', '1431.wav', '1424.wav', '1413.wav', '216.wav', '1414.wav', '1480.wav', '1326.wav', '15.wav', '168.wav', '209.wav', '208.wav', '1331.wav', '1471.wav']\n"
          ]
        }
      ]
    },
    {
      "cell_type": "code",
      "source": [
        "trail_audio = '/content/drive/MyDrive/finaldataset/finaldataset/Benjamin_Netanyau/760.wav'\n",
        "ipd.Audio('/content/drive/MyDrive/finaldataset/finaldataset/Benjamin_Netanyau/5.wav')\n",
        "a,b = librosa.load(trail_audio);\n",
        "import matplotlib.pyplot as plt\n",
        "time = np.arange( 0 , len(a)) / b\n",
        "plt.plot(time ,a)\n",
        "plt.show()"
      ],
      "metadata": {
        "colab": {
          "base_uri": "https://localhost:8080/",
          "height": 265
        },
        "id": "l9Mb9406QS_3",
        "outputId": "c374e71b-f016-46ff-87bc-586335752f4c"
      },
      "execution_count": 5,
      "outputs": [
        {
          "output_type": "display_data",
          "data": {
            "text/plain": [
              "<Figure size 432x288 with 1 Axes>"
            ],
            "image/png": "[encoded data removed]"
          },
          "metadata": {
            "needs_background": "light"
          }
        }
      ]
    },
    {
      "cell_type": "code",
      "source": [
        "# this is empty part of speech so we can clearly see its amplitude is very less compare to segment which actually has audio content\n",
        "trail_audio1 = '/content/drive/MyDrive/finaldataset/finaldataset/Benjamin_Netanyau/5.wav'\n",
        "a1,b1 = librosa.load(trail_audio1);\n",
        "time1 = np.arange( 0 , len(a1)) / b1\n",
        "plt.plot(time1 ,a1)\n",
        "fr = max(a1)\n",
        "print(fr)\n",
        "plt.show()"
      ],
      "metadata": {
        "colab": {
          "base_uri": "https://localhost:8080/",
          "height": 282
        },
        "id": "CbA38rDAFCYQ",
        "outputId": "07340851-92f9-4ec8-f60d-f67211ea1c33"
      },
      "execution_count": 32,
      "outputs": [
        {
          "output_type": "stream",
          "name": "stdout",
          "text": [
            "0.05324842\n"
          ]
        },
        {
          "output_type": "display_data",
          "data": {
            "text/plain": [
              "<Figure size 432x288 with 1 Axes>"
            ],
            "image/png": "[encoded data removed]"
          },
          "metadata": {
            "needs_background": "light"
          }
        }
      ]
    },
    {
      "cell_type": "markdown",
      "source": [
        "# **Feature extraction using librosa**"
      ],
      "metadata": {
        "id": "kHsXniX3kWTy"
      }
    },
    {
      "cell_type": "code",
      "source": [
        "\"\"\" extracting first 13 cosine coefficient of the log - spectrum as they corresponds\n",
        "  to low frequecy which contains envelop required for audio characteristic or envelope(vocal tract frequency) \n",
        "  while higher freq corresponds to minute details.\n",
        "\"\"\"\n",
        "\n",
        "def features_extractor(file_name , audio , sample_rate):\n",
        "  mfccs_features = librosa.feature.mfcc(y=audio, sr=sample_rate, n_mfcc=13)\n",
        "  # converting 2D features into 1D by taking average of individual co-efficient across all frames\n",
        "  mfccs_scaled_features = np.mean(mfccs_features.T,axis=0)\n",
        "  return mfccs_scaled_features"
      ],
      "metadata": {
        "id": "kwkam09wRibm"
      },
      "execution_count": 7,
      "outputs": []
    },
    {
      "cell_type": "code",
      "source": [
        "def get_list(label , audiopaths):\n",
        "  features1 = []\n",
        "  for root , dirs , files in os.walk(audiopaths):\n",
        "    for myfile in files:\n",
        "      audio, sample_rate = librosa.load(os.path.join(audiopaths , myfile), res_type='kaiser_fast')\n",
        "      # as observed above we would only preprocess the audio whose amplitude > 0.1 else it suggests that segment is one of the empty part of audio\n",
        "      if max(audio)>0.1:\n",
        "        getfeature = features_extractor(os.path.join(audiopaths , myfile) , audio , sample_rate)\n",
        "        my_label = label\n",
        "        features1.append([getfeature , my_label])\n",
        "  return features1"
      ],
      "metadata": {
        "id": "k-7SlTd6UFr1"
      },
      "execution_count": 31,
      "outputs": []
    },
    {
      "cell_type": "code",
      "source": [
        "from librosa.core.constantq import audio\n",
        "mydictionary = {'Benjamin_Netanyau' : audiopath1 ,\n",
        "                'Jens_Stoltenberg': audiopath2 ,\n",
        "                'Julia_Gillard': audiopath3 ,\n",
        "                'Nelson_Mandela': audiopath4 ,\n",
        "                'Magaret_Tarcher': audiopath5}"
      ],
      "metadata": {
        "id": "G0EGwzy5k01U"
      },
      "execution_count": 9,
      "outputs": []
    },
    {
      "cell_type": "markdown",
      "source": [
        "# Combined featurelist"
      ],
      "metadata": {
        "id": "8ir5dEopk4Du"
      }
    },
    {
      "cell_type": "code",
      "source": [
        "'''\n",
        "traversing through each folder and combining into final feature list\n",
        "'''\n",
        "\n",
        "finalfeature = []\n",
        "for speaker in mydictionary:\n",
        "  getpath = mydictionary[speaker]\n",
        "  indifeature = get_list(speaker , getpath)\n",
        "  finalfeature.append(indifeature)"
      ],
      "metadata": {
        "id": "C4O759Ilbqn1"
      },
      "execution_count": 10,
      "outputs": []
    },
    {
      "cell_type": "code",
      "source": [
        "'''\n",
        "function to create dataframe for our 2 dimentinal list and combining lastly\n",
        "'''\n",
        "import pandas as pd\n",
        "def mydataframe(frames):\n",
        "  indiframe = pd.DataFrame(frames , columns=['voicefeatures' , 'speaker'])\n",
        "  return indiframe\n"
      ],
      "metadata": {
        "id": "O6sFemuAb1mI"
      },
      "execution_count": 11,
      "outputs": []
    },
    {
      "cell_type": "markdown",
      "source": [
        "# Creating Dataframe"
      ],
      "metadata": {
        "id": "v1UCWSSmlAqp"
      }
    },
    {
      "cell_type": "code",
      "source": [
        "framing = []\n",
        "for frames in finalfeature:\n",
        "  getframe = mydataframe(frames)\n",
        "  framing.append(getframe)\n",
        "  "
      ],
      "metadata": {
        "id": "BdmiU6QXfTHX"
      },
      "execution_count": 12,
      "outputs": []
    },
    {
      "cell_type": "code",
      "source": [
        "finalframes = pd.concat(framing)"
      ],
      "metadata": {
        "id": "MXa9FPdzhqcx"
      },
      "execution_count": 13,
      "outputs": []
    },
    {
      "cell_type": "code",
      "source": [
        "finalframes = finalframes.sample(frac = 1)\n",
        "print(finalframes)"
      ],
      "metadata": {
        "id": "AJKjN0D-i3WP",
        "colab": {
          "base_uri": "https://localhost:8080/"
        },
        "outputId": "6dcf0256-0bd0-4454-809c-6be5283bfc0d"
      },
      "execution_count": 14,
      "outputs": [
        {
          "output_type": "stream",
          "name": "stdout",
          "text": [
            "                                          voicefeatures            speaker\n",
            "1497  [-108.32447, 121.2481, -12.618791, 70.18374, -...     Nelson_Mandela\n",
            "867   [-90.951675, 119.84343, -31.299507, 75.06275, ...     Nelson_Mandela\n",
            "259   [-299.8799, 96.67022, -37.36447, 43.87518, 11....  Benjamin_Netanyau\n",
            "197   [-216.78902, 87.33837, -54.679947, 50.547398, ...   Jens_Stoltenberg\n",
            "219   [-108.55573, 124.644875, -47.423275, 63.997643...      Julia_Gillard\n",
            "...                                                 ...                ...\n",
            "44    [-294.46848, 112.26358, -23.92971, 57.327682, ...  Benjamin_Netanyau\n",
            "477   [-312.16794, 98.969925, -35.119003, 57.842907,...  Benjamin_Netanyau\n",
            "970   [-168.03133, 142.70184, -56.738132, 59.486168,...   Jens_Stoltenberg\n",
            "24    [-137.91669, 148.89911, -70.03521, 52.67108, -...  Benjamin_Netanyau\n",
            "444   [-163.6758, 118.98486, -35.720592, 73.55595, -...   Jens_Stoltenberg\n",
            "\n",
            "[7248 rows x 2 columns]\n"
          ]
        }
      ]
    },
    {
      "cell_type": "markdown",
      "source": [
        "# Creating CSV file of Dataframe"
      ],
      "metadata": {
        "id": "oCQoTaQNlI6W"
      }
    },
    {
      "cell_type": "code",
      "source": [
        "''' Saving our final dataframe into\n",
        "    CSV file so we do not need to extract features again.\n",
        "'''\n",
        "#finalframes.to_csv('/content/drive/MyDrive/metadata.csv')"
      ],
      "metadata": {
        "id": "rMxWR6FTi8UW"
      },
      "execution_count": null,
      "outputs": []
    },
    {
      "cell_type": "code",
      "source": [
        "# import pandas as panda"
      ],
      "metadata": {
        "id": "lF-LKqX1jh3K"
      },
      "execution_count": null,
      "outputs": []
    },
    {
      "cell_type": "code",
      "source": [
        "#df = panda.read_csv('/content/drive/MyDrive/metadata.csv' , dtype = object)\n",
        "#df = panda.DataFrame(df)"
      ],
      "metadata": {
        "id": "iPnmgKoi1QOc"
      },
      "execution_count": null,
      "outputs": []
    },
    {
      "cell_type": "code",
      "source": [
        "#df.head()\n",
        "# we need to jumble the dataframes as it contains speaker categorywise\n",
        "\n",
        "#df = df.sample(frac = 1)"
      ],
      "metadata": {
        "id": "LoIDaU8T1h68",
        "colab": {
          "base_uri": "https://localhost:8080/",
          "height": 206
        },
        "outputId": "187401a2-eafc-493c-ad25-0faa8db837cf"
      },
      "execution_count": null,
      "outputs": [
        {
          "output_type": "execute_result",
          "data": {
            "text/plain": [
              "  Unnamed: 0                                      voicefeatures  \\\n",
              "0          0  [ -67.50494     130.9896     -159.15288      5...   \n",
              "1          1  [-9.0366417e+01  1.1678792e+02 -1.3628354e+02 ...   \n",
              "2          2  [ -95.34265     126.24473    -141.69981      5...   \n",
              "3          3  [-5.2699886e+01  1.3917502e+02 -1.5571051e+02 ...   \n",
              "4          4  [-1.7422803e+02  1.5821219e+02 -5.6552784e+01 ...   \n",
              "\n",
              "             speaker  \n",
              "0  Benjamin_Netanyau  \n",
              "1  Benjamin_Netanyau  \n",
              "2  Benjamin_Netanyau  \n",
              "3  Benjamin_Netanyau  \n",
              "4  Benjamin_Netanyau  "
            ],
            "text/html": [
              "\n",
              "  <div id=\"df-fbb22bc7-46f6-41e4-9a31-85ec3b2b70bb\">\n",
              "    <div class=\"colab-df-container\">\n",
              "      <div>\n",
              "<style scoped>\n",
              "    .dataframe tbody tr th:only-of-type {\n",
              "        vertical-align: middle;\n",
              "    }\n",
              "\n",
              "    .dataframe tbody tr th {\n",
              "        vertical-align: top;\n",
              "    }\n",
              "\n",
              "    .dataframe thead th {\n",
              "        text-align: right;\n",
              "    }\n",
              "</style>\n",
              "<table border=\"1\" class=\"dataframe\">\n",
              "  <thead>\n",
              "    <tr style=\"text-align: right;\">\n",
              "      <th></th>\n",
              "      <th>Unnamed: 0</th>\n",
              "      <th>voicefeatures</th>\n",
              "      <th>speaker</th>\n",
              "    </tr>\n",
              "  </thead>\n",
              "  <tbody>\n",
              "    <tr>\n",
              "      <th>0</th>\n",
              "      <td>0</td>\n",
              "      <td>[ -67.50494     130.9896     -159.15288      5...</td>\n",
              "      <td>Benjamin_Netanyau</td>\n",
              "    </tr>\n",
              "    <tr>\n",
              "      <th>1</th>\n",
              "      <td>1</td>\n",
              "      <td>[-9.0366417e+01  1.1678792e+02 -1.3628354e+02 ...</td>\n",
              "      <td>Benjamin_Netanyau</td>\n",
              "    </tr>\n",
              "    <tr>\n",
              "      <th>2</th>\n",
              "      <td>2</td>\n",
              "      <td>[ -95.34265     126.24473    -141.69981      5...</td>\n",
              "      <td>Benjamin_Netanyau</td>\n",
              "    </tr>\n",
              "    <tr>\n",
              "      <th>3</th>\n",
              "      <td>3</td>\n",
              "      <td>[-5.2699886e+01  1.3917502e+02 -1.5571051e+02 ...</td>\n",
              "      <td>Benjamin_Netanyau</td>\n",
              "    </tr>\n",
              "    <tr>\n",
              "      <th>4</th>\n",
              "      <td>4</td>\n",
              "      <td>[-1.7422803e+02  1.5821219e+02 -5.6552784e+01 ...</td>\n",
              "      <td>Benjamin_Netanyau</td>\n",
              "    </tr>\n",
              "  </tbody>\n",
              "</table>\n",
              "</div>\n",
              "      <button class=\"colab-df-convert\" onclick=\"convertToInteractive('df-fbb22bc7-46f6-41e4-9a31-85ec3b2b70bb')\"\n",
              "              title=\"Convert this dataframe to an interactive table.\"\n",
              "              style=\"display:none;\">\n",
              "        \n",
              "  <svg xmlns=\"http://www.w3.org/2000/svg\" height=\"24px\"viewBox=\"0 0 24 24\"\n",
              "       width=\"24px\">\n",
              "    <path d=\"M0 0h24v24H0V0z\" fill=\"none\"/>\n",
              "    <path d=\"M18.56 5.44l.94 2.06.94-2.06 2.06-.94-2.06-.94-.94-2.06-.94 2.06-2.06.94zm-11 1L8.5 8.5l.94-2.06 2.06-.94-2.06-.94L8.5 2.5l-.94 2.06-2.06.94zm10 10l.94 2.06.94-2.06 2.06-.94-2.06-.94-.94-2.06-.94 2.06-2.06.94z\"/><path d=\"M17.41 7.96l-1.37-1.37c-.4-.4-.92-.59-1.43-.59-.52 0-1.04.2-1.43.59L10.3 9.45l-7.72 7.72c-.78.78-.78 2.05 0 2.83L4 21.41c.39.39.9.59 1.41.59.51 0 1.02-.2 1.41-.59l7.78-7.78 2.81-2.81c.8-.78.8-2.07 0-2.86zM5.41 20L4 18.59l7.72-7.72 1.47 1.35L5.41 20z\"/>\n",
              "  </svg>\n",
              "      </button>\n",
              "      \n",
              "  <style>\n",
              "    .colab-df-container {\n",
              "      display:flex;\n",
              "      flex-wrap:wrap;\n",
              "      gap: 12px;\n",
              "    }\n",
              "\n",
              "    .colab-df-convert {\n",
              "      background-color: #E8F0FE;\n",
              "      border: none;\n",
              "      border-radius: 50%;\n",
              "      cursor: pointer;\n",
              "      display: none;\n",
              "      fill: #1967D2;\n",
              "      height: 32px;\n",
              "      padding: 0 0 0 0;\n",
              "      width: 32px;\n",
              "    }\n",
              "\n",
              "    .colab-df-convert:hover {\n",
              "      background-color: #E2EBFA;\n",
              "      box-shadow: 0px 1px 2px rgba(60, 64, 67, 0.3), 0px 1px 3px 1px rgba(60, 64, 67, 0.15);\n",
              "      fill: #174EA6;\n",
              "    }\n",
              "\n",
              "    [theme=dark] .colab-df-convert {\n",
              "      background-color: #3B4455;\n",
              "      fill: #D2E3FC;\n",
              "    }\n",
              "\n",
              "    [theme=dark] .colab-df-convert:hover {\n",
              "      background-color: #434B5C;\n",
              "      box-shadow: 0px 1px 3px 1px rgba(0, 0, 0, 0.15);\n",
              "      filter: drop-shadow(0px 1px 2px rgba(0, 0, 0, 0.3));\n",
              "      fill: #FFFFFF;\n",
              "    }\n",
              "  </style>\n",
              "\n",
              "      <script>\n",
              "        const buttonEl =\n",
              "          document.querySelector('#df-fbb22bc7-46f6-41e4-9a31-85ec3b2b70bb button.colab-df-convert');\n",
              "        buttonEl.style.display =\n",
              "          google.colab.kernel.accessAllowed ? 'block' : 'none';\n",
              "\n",
              "        async function convertToInteractive(key) {\n",
              "          const element = document.querySelector('#df-fbb22bc7-46f6-41e4-9a31-85ec3b2b70bb');\n",
              "          const dataTable =\n",
              "            await google.colab.kernel.invokeFunction('convertToInteractive',\n",
              "                                                     [key], {});\n",
              "          if (!dataTable) return;\n",
              "\n",
              "          const docLinkHtml = 'Like what you see? Visit the ' +\n",
              "            '<a target=\"_blank\" href=https://colab.research.google.com/notebooks/data_table.ipynb>data table notebook</a>'\n",
              "            + ' to learn more about interactive tables.';\n",
              "          element.innerHTML = '';\n",
              "          dataTable['output_type'] = 'display_data';\n",
              "          await google.colab.output.renderOutput(dataTable, element);\n",
              "          const docLink = document.createElement('div');\n",
              "          docLink.innerHTML = docLinkHtml;\n",
              "          element.appendChild(docLink);\n",
              "        }\n",
              "      </script>\n",
              "    </div>\n",
              "  </div>\n",
              "  "
            ]
          },
          "metadata": {},
          "execution_count": 92
        }
      ]
    },
    {
      "cell_type": "markdown",
      "source": [
        "# Preprocessing Data"
      ],
      "metadata": {
        "id": "aJmUvcxh11G7"
      }
    },
    {
      "cell_type": "code",
      "source": [
        "y = np.array(finalframes['voicefeatures'].tolist())\n",
        "print(y)"
      ],
      "metadata": {
        "id": "-YuqH_Zh14yL",
        "colab": {
          "base_uri": "https://localhost:8080/"
        },
        "outputId": "3acd89a0-39cc-4537-be21-709929a82b79"
      },
      "execution_count": 15,
      "outputs": [
        {
          "output_type": "stream",
          "name": "stdout",
          "text": [
            "[[-108.32447    121.2481     -12.618791  ...    1.1276323  -19.534714\n",
            "    12.849133 ]\n",
            " [ -90.951675   119.84343    -31.299507  ...   -4.2921095  -14.64538\n",
            "     1.2080747]\n",
            " [-299.8799      96.67022    -37.36447   ...   -1.7963139  -13.519715\n",
            "    -4.014631 ]\n",
            " ...\n",
            " [-168.03133    142.70184    -56.738132  ...  -10.099091   -20.038649\n",
            "     1.0235604]\n",
            " [-137.91669    148.89911    -70.03521   ...   -4.006937   -23.734034\n",
            "    -7.9631987]\n",
            " [-163.6758     118.98486    -35.720592  ...   -2.4339948  -16.044117\n",
            "    -2.5764396]]\n"
          ]
        }
      ]
    },
    {
      "cell_type": "code",
      "source": [
        "Y_raw = np.array(finalframes['speaker'].tolist())"
      ],
      "metadata": {
        "id": "8XXbZhdZ2H6z"
      },
      "execution_count": 16,
      "outputs": []
    },
    {
      "cell_type": "code",
      "source": [
        "h = finalframes['speaker'].tolist()\n",
        "h"
      ],
      "metadata": {
        "colab": {
          "base_uri": "https://localhost:8080/"
        },
        "id": "miAKIBgyVbp0",
        "outputId": "c8a99935-7d33-4003-dc0a-95915e37e8d8"
      },
      "execution_count": 17,
      "outputs": [
        {
          "output_type": "execute_result",
          "data": {
            "text/plain": [
              "['Nelson_Mandela',\n",
              " 'Nelson_Mandela',\n",
              " 'Benjamin_Netanyau',\n",
              " 'Jens_Stoltenberg',\n",
              " 'Julia_Gillard',\n",
              " 'Jens_Stoltenberg',\n",
              " 'Nelson_Mandela',\n",
              " 'Nelson_Mandela',\n",
              " 'Benjamin_Netanyau',\n",
              " 'Benjamin_Netanyau',\n",
              " 'Benjamin_Netanyau',\n",
              " 'Jens_Stoltenberg',\n",
              " 'Magaret_Tarcher',\n",
              " 'Jens_Stoltenberg',\n",
              " 'Jens_Stoltenberg',\n",
              " 'Benjamin_Netanyau',\n",
              " 'Julia_Gillard',\n",
              " 'Julia_Gillard',\n",
              " 'Benjamin_Netanyau',\n",
              " 'Jens_Stoltenberg',\n",
              " 'Julia_Gillard',\n",
              " 'Magaret_Tarcher',\n",
              " 'Benjamin_Netanyau',\n",
              " 'Benjamin_Netanyau',\n",
              " 'Magaret_Tarcher',\n",
              " 'Benjamin_Netanyau',\n",
              " 'Benjamin_Netanyau',\n",
              " 'Julia_Gillard',\n",
              " 'Julia_Gillard',\n",
              " 'Jens_Stoltenberg',\n",
              " 'Benjamin_Netanyau',\n",
              " 'Julia_Gillard',\n",
              " 'Benjamin_Netanyau',\n",
              " 'Nelson_Mandela',\n",
              " 'Magaret_Tarcher',\n",
              " 'Magaret_Tarcher',\n",
              " 'Magaret_Tarcher',\n",
              " 'Julia_Gillard',\n",
              " 'Benjamin_Netanyau',\n",
              " 'Jens_Stoltenberg',\n",
              " 'Julia_Gillard',\n",
              " 'Julia_Gillard',\n",
              " 'Nelson_Mandela',\n",
              " 'Jens_Stoltenberg',\n",
              " 'Julia_Gillard',\n",
              " 'Julia_Gillard',\n",
              " 'Nelson_Mandela',\n",
              " 'Julia_Gillard',\n",
              " 'Nelson_Mandela',\n",
              " 'Jens_Stoltenberg',\n",
              " 'Jens_Stoltenberg',\n",
              " 'Jens_Stoltenberg',\n",
              " 'Jens_Stoltenberg',\n",
              " 'Jens_Stoltenberg',\n",
              " 'Nelson_Mandela',\n",
              " 'Julia_Gillard',\n",
              " 'Jens_Stoltenberg',\n",
              " 'Nelson_Mandela',\n",
              " 'Magaret_Tarcher',\n",
              " 'Jens_Stoltenberg',\n",
              " 'Magaret_Tarcher',\n",
              " 'Magaret_Tarcher',\n",
              " 'Jens_Stoltenberg',\n",
              " 'Julia_Gillard',\n",
              " 'Magaret_Tarcher',\n",
              " 'Magaret_Tarcher',\n",
              " 'Jens_Stoltenberg',\n",
              " 'Nelson_Mandela',\n",
              " 'Magaret_Tarcher',\n",
              " 'Magaret_Tarcher',\n",
              " 'Jens_Stoltenberg',\n",
              " 'Magaret_Tarcher',\n",
              " 'Nelson_Mandela',\n",
              " 'Jens_Stoltenberg',\n",
              " 'Nelson_Mandela',\n",
              " 'Julia_Gillard',\n",
              " 'Benjamin_Netanyau',\n",
              " 'Benjamin_Netanyau',\n",
              " 'Benjamin_Netanyau',\n",
              " 'Julia_Gillard',\n",
              " 'Jens_Stoltenberg',\n",
              " 'Magaret_Tarcher',\n",
              " 'Julia_Gillard',\n",
              " 'Benjamin_Netanyau',\n",
              " 'Magaret_Tarcher',\n",
              " 'Magaret_Tarcher',\n",
              " 'Nelson_Mandela',\n",
              " 'Magaret_Tarcher',\n",
              " 'Magaret_Tarcher',\n",
              " 'Julia_Gillard',\n",
              " 'Julia_Gillard',\n",
              " 'Nelson_Mandela',\n",
              " 'Nelson_Mandela',\n",
              " 'Jens_Stoltenberg',\n",
              " 'Jens_Stoltenberg',\n",
              " 'Jens_Stoltenberg',\n",
              " 'Benjamin_Netanyau',\n",
              " 'Nelson_Mandela',\n",
              " 'Magaret_Tarcher',\n",
              " 'Magaret_Tarcher',\n",
              " 'Jens_Stoltenberg',\n",
              " 'Benjamin_Netanyau',\n",
              " 'Julia_Gillard',\n",
              " 'Magaret_Tarcher',\n",
              " 'Benjamin_Netanyau',\n",
              " 'Julia_Gillard',\n",
              " 'Nelson_Mandela',\n",
              " 'Magaret_Tarcher',\n",
              " 'Nelson_Mandela',\n",
              " 'Julia_Gillard',\n",
              " 'Magaret_Tarcher',\n",
              " 'Julia_Gillard',\n",
              " 'Magaret_Tarcher',\n",
              " 'Nelson_Mandela',\n",
              " 'Magaret_Tarcher',\n",
              " 'Benjamin_Netanyau',\n",
              " 'Jens_Stoltenberg',\n",
              " 'Jens_Stoltenberg',\n",
              " 'Nelson_Mandela',\n",
              " 'Julia_Gillard',\n",
              " 'Magaret_Tarcher',\n",
              " 'Jens_Stoltenberg',\n",
              " 'Julia_Gillard',\n",
              " 'Benjamin_Netanyau',\n",
              " 'Jens_Stoltenberg',\n",
              " 'Magaret_Tarcher',\n",
              " 'Benjamin_Netanyau',\n",
              " 'Julia_Gillard',\n",
              " 'Jens_Stoltenberg',\n",
              " 'Nelson_Mandela',\n",
              " 'Jens_Stoltenberg',\n",
              " 'Magaret_Tarcher',\n",
              " 'Magaret_Tarcher',\n",
              " 'Jens_Stoltenberg',\n",
              " 'Nelson_Mandela',\n",
              " 'Benjamin_Netanyau',\n",
              " 'Jens_Stoltenberg',\n",
              " 'Julia_Gillard',\n",
              " 'Nelson_Mandela',\n",
              " 'Julia_Gillard',\n",
              " 'Julia_Gillard',\n",
              " 'Jens_Stoltenberg',\n",
              " 'Benjamin_Netanyau',\n",
              " 'Magaret_Tarcher',\n",
              " 'Magaret_Tarcher',\n",
              " 'Benjamin_Netanyau',\n",
              " 'Nelson_Mandela',\n",
              " 'Jens_Stoltenberg',\n",
              " 'Magaret_Tarcher',\n",
              " 'Jens_Stoltenberg',\n",
              " 'Julia_Gillard',\n",
              " 'Jens_Stoltenberg',\n",
              " 'Nelson_Mandela',\n",
              " 'Benjamin_Netanyau',\n",
              " 'Nelson_Mandela',\n",
              " 'Julia_Gillard',\n",
              " 'Jens_Stoltenberg',\n",
              " 'Magaret_Tarcher',\n",
              " 'Jens_Stoltenberg',\n",
              " 'Magaret_Tarcher',\n",
              " 'Magaret_Tarcher',\n",
              " 'Jens_Stoltenberg',\n",
              " 'Benjamin_Netanyau',\n",
              " 'Julia_Gillard',\n",
              " 'Magaret_Tarcher',\n",
              " 'Julia_Gillard',\n",
              " 'Nelson_Mandela',\n",
              " 'Julia_Gillard',\n",
              " 'Julia_Gillard',\n",
              " 'Nelson_Mandela',\n",
              " 'Nelson_Mandela',\n",
              " 'Nelson_Mandela',\n",
              " 'Magaret_Tarcher',\n",
              " 'Nelson_Mandela',\n",
              " 'Jens_Stoltenberg',\n",
              " 'Julia_Gillard',\n",
              " 'Benjamin_Netanyau',\n",
              " 'Julia_Gillard',\n",
              " 'Magaret_Tarcher',\n",
              " 'Jens_Stoltenberg',\n",
              " 'Magaret_Tarcher',\n",
              " 'Nelson_Mandela',\n",
              " 'Julia_Gillard',\n",
              " 'Benjamin_Netanyau',\n",
              " 'Nelson_Mandela',\n",
              " 'Jens_Stoltenberg',\n",
              " 'Nelson_Mandela',\n",
              " 'Benjamin_Netanyau',\n",
              " 'Benjamin_Netanyau',\n",
              " 'Nelson_Mandela',\n",
              " 'Nelson_Mandela',\n",
              " 'Julia_Gillard',\n",
              " 'Magaret_Tarcher',\n",
              " 'Magaret_Tarcher',\n",
              " 'Benjamin_Netanyau',\n",
              " 'Julia_Gillard',\n",
              " 'Julia_Gillard',\n",
              " 'Benjamin_Netanyau',\n",
              " 'Nelson_Mandela',\n",
              " 'Magaret_Tarcher',\n",
              " 'Benjamin_Netanyau',\n",
              " 'Jens_Stoltenberg',\n",
              " 'Magaret_Tarcher',\n",
              " 'Benjamin_Netanyau',\n",
              " 'Jens_Stoltenberg',\n",
              " 'Jens_Stoltenberg',\n",
              " 'Nelson_Mandela',\n",
              " 'Nelson_Mandela',\n",
              " 'Magaret_Tarcher',\n",
              " 'Benjamin_Netanyau',\n",
              " 'Benjamin_Netanyau',\n",
              " 'Benjamin_Netanyau',\n",
              " 'Julia_Gillard',\n",
              " 'Jens_Stoltenberg',\n",
              " 'Julia_Gillard',\n",
              " 'Magaret_Tarcher',\n",
              " 'Benjamin_Netanyau',\n",
              " 'Magaret_Tarcher',\n",
              " 'Benjamin_Netanyau',\n",
              " 'Jens_Stoltenberg',\n",
              " 'Nelson_Mandela',\n",
              " 'Julia_Gillard',\n",
              " 'Magaret_Tarcher',\n",
              " 'Benjamin_Netanyau',\n",
              " 'Nelson_Mandela',\n",
              " 'Jens_Stoltenberg',\n",
              " 'Julia_Gillard',\n",
              " 'Jens_Stoltenberg',\n",
              " 'Magaret_Tarcher',\n",
              " 'Nelson_Mandela',\n",
              " 'Benjamin_Netanyau',\n",
              " 'Julia_Gillard',\n",
              " 'Julia_Gillard',\n",
              " 'Julia_Gillard',\n",
              " 'Jens_Stoltenberg',\n",
              " 'Benjamin_Netanyau',\n",
              " 'Magaret_Tarcher',\n",
              " 'Benjamin_Netanyau',\n",
              " 'Nelson_Mandela',\n",
              " 'Jens_Stoltenberg',\n",
              " 'Magaret_Tarcher',\n",
              " 'Jens_Stoltenberg',\n",
              " 'Julia_Gillard',\n",
              " 'Nelson_Mandela',\n",
              " 'Nelson_Mandela',\n",
              " 'Jens_Stoltenberg',\n",
              " 'Magaret_Tarcher',\n",
              " 'Jens_Stoltenberg',\n",
              " 'Magaret_Tarcher',\n",
              " 'Julia_Gillard',\n",
              " 'Benjamin_Netanyau',\n",
              " 'Julia_Gillard',\n",
              " 'Nelson_Mandela',\n",
              " 'Magaret_Tarcher',\n",
              " 'Magaret_Tarcher',\n",
              " 'Jens_Stoltenberg',\n",
              " 'Julia_Gillard',\n",
              " 'Julia_Gillard',\n",
              " 'Nelson_Mandela',\n",
              " 'Magaret_Tarcher',\n",
              " 'Jens_Stoltenberg',\n",
              " 'Jens_Stoltenberg',\n",
              " 'Julia_Gillard',\n",
              " 'Jens_Stoltenberg',\n",
              " 'Nelson_Mandela',\n",
              " 'Jens_Stoltenberg',\n",
              " 'Benjamin_Netanyau',\n",
              " 'Julia_Gillard',\n",
              " 'Nelson_Mandela',\n",
              " 'Nelson_Mandela',\n",
              " 'Benjamin_Netanyau',\n",
              " 'Julia_Gillard',\n",
              " 'Nelson_Mandela',\n",
              " 'Jens_Stoltenberg',\n",
              " 'Benjamin_Netanyau',\n",
              " 'Julia_Gillard',\n",
              " 'Julia_Gillard',\n",
              " 'Jens_Stoltenberg',\n",
              " 'Benjamin_Netanyau',\n",
              " 'Jens_Stoltenberg',\n",
              " 'Jens_Stoltenberg',\n",
              " 'Benjamin_Netanyau',\n",
              " 'Julia_Gillard',\n",
              " 'Nelson_Mandela',\n",
              " 'Julia_Gillard',\n",
              " 'Benjamin_Netanyau',\n",
              " 'Julia_Gillard',\n",
              " 'Benjamin_Netanyau',\n",
              " 'Jens_Stoltenberg',\n",
              " 'Benjamin_Netanyau',\n",
              " 'Jens_Stoltenberg',\n",
              " 'Magaret_Tarcher',\n",
              " 'Jens_Stoltenberg',\n",
              " 'Nelson_Mandela',\n",
              " 'Magaret_Tarcher',\n",
              " 'Magaret_Tarcher',\n",
              " 'Nelson_Mandela',\n",
              " 'Benjamin_Netanyau',\n",
              " 'Jens_Stoltenberg',\n",
              " 'Julia_Gillard',\n",
              " 'Nelson_Mandela',\n",
              " 'Jens_Stoltenberg',\n",
              " 'Julia_Gillard',\n",
              " 'Benjamin_Netanyau',\n",
              " 'Jens_Stoltenberg',\n",
              " 'Magaret_Tarcher',\n",
              " 'Jens_Stoltenberg',\n",
              " 'Nelson_Mandela',\n",
              " 'Jens_Stoltenberg',\n",
              " 'Nelson_Mandela',\n",
              " 'Julia_Gillard',\n",
              " 'Benjamin_Netanyau',\n",
              " 'Jens_Stoltenberg',\n",
              " 'Magaret_Tarcher',\n",
              " 'Benjamin_Netanyau',\n",
              " 'Jens_Stoltenberg',\n",
              " 'Jens_Stoltenberg',\n",
              " 'Julia_Gillard',\n",
              " 'Benjamin_Netanyau',\n",
              " 'Magaret_Tarcher',\n",
              " 'Jens_Stoltenberg',\n",
              " 'Benjamin_Netanyau',\n",
              " 'Benjamin_Netanyau',\n",
              " 'Julia_Gillard',\n",
              " 'Magaret_Tarcher',\n",
              " 'Nelson_Mandela',\n",
              " 'Magaret_Tarcher',\n",
              " 'Magaret_Tarcher',\n",
              " 'Benjamin_Netanyau',\n",
              " 'Julia_Gillard',\n",
              " 'Julia_Gillard',\n",
              " 'Benjamin_Netanyau',\n",
              " 'Magaret_Tarcher',\n",
              " 'Julia_Gillard',\n",
              " 'Nelson_Mandela',\n",
              " 'Nelson_Mandela',\n",
              " 'Julia_Gillard',\n",
              " 'Julia_Gillard',\n",
              " 'Nelson_Mandela',\n",
              " 'Jens_Stoltenberg',\n",
              " 'Benjamin_Netanyau',\n",
              " 'Julia_Gillard',\n",
              " 'Benjamin_Netanyau',\n",
              " 'Jens_Stoltenberg',\n",
              " 'Benjamin_Netanyau',\n",
              " 'Jens_Stoltenberg',\n",
              " 'Nelson_Mandela',\n",
              " 'Julia_Gillard',\n",
              " 'Magaret_Tarcher',\n",
              " 'Nelson_Mandela',\n",
              " 'Magaret_Tarcher',\n",
              " 'Julia_Gillard',\n",
              " 'Magaret_Tarcher',\n",
              " 'Magaret_Tarcher',\n",
              " 'Julia_Gillard',\n",
              " 'Jens_Stoltenberg',\n",
              " 'Nelson_Mandela',\n",
              " 'Julia_Gillard',\n",
              " 'Magaret_Tarcher',\n",
              " 'Magaret_Tarcher',\n",
              " 'Benjamin_Netanyau',\n",
              " 'Julia_Gillard',\n",
              " 'Benjamin_Netanyau',\n",
              " 'Benjamin_Netanyau',\n",
              " 'Julia_Gillard',\n",
              " 'Magaret_Tarcher',\n",
              " 'Magaret_Tarcher',\n",
              " 'Magaret_Tarcher',\n",
              " 'Magaret_Tarcher',\n",
              " 'Magaret_Tarcher',\n",
              " 'Magaret_Tarcher',\n",
              " 'Jens_Stoltenberg',\n",
              " 'Julia_Gillard',\n",
              " 'Magaret_Tarcher',\n",
              " 'Magaret_Tarcher',\n",
              " 'Benjamin_Netanyau',\n",
              " 'Benjamin_Netanyau',\n",
              " 'Jens_Stoltenberg',\n",
              " 'Benjamin_Netanyau',\n",
              " 'Nelson_Mandela',\n",
              " 'Benjamin_Netanyau',\n",
              " 'Jens_Stoltenberg',\n",
              " 'Julia_Gillard',\n",
              " 'Julia_Gillard',\n",
              " 'Julia_Gillard',\n",
              " 'Nelson_Mandela',\n",
              " 'Benjamin_Netanyau',\n",
              " 'Benjamin_Netanyau',\n",
              " 'Jens_Stoltenberg',\n",
              " 'Nelson_Mandela',\n",
              " 'Benjamin_Netanyau',\n",
              " 'Jens_Stoltenberg',\n",
              " 'Julia_Gillard',\n",
              " 'Benjamin_Netanyau',\n",
              " 'Magaret_Tarcher',\n",
              " 'Magaret_Tarcher',\n",
              " 'Magaret_Tarcher',\n",
              " 'Magaret_Tarcher',\n",
              " 'Magaret_Tarcher',\n",
              " 'Julia_Gillard',\n",
              " 'Benjamin_Netanyau',\n",
              " 'Julia_Gillard',\n",
              " 'Jens_Stoltenberg',\n",
              " 'Julia_Gillard',\n",
              " 'Nelson_Mandela',\n",
              " 'Julia_Gillard',\n",
              " 'Julia_Gillard',\n",
              " 'Magaret_Tarcher',\n",
              " 'Benjamin_Netanyau',\n",
              " 'Magaret_Tarcher',\n",
              " 'Benjamin_Netanyau',\n",
              " 'Benjamin_Netanyau',\n",
              " 'Magaret_Tarcher',\n",
              " 'Magaret_Tarcher',\n",
              " 'Nelson_Mandela',\n",
              " 'Magaret_Tarcher',\n",
              " 'Julia_Gillard',\n",
              " 'Nelson_Mandela',\n",
              " 'Benjamin_Netanyau',\n",
              " 'Julia_Gillard',\n",
              " 'Nelson_Mandela',\n",
              " 'Magaret_Tarcher',\n",
              " 'Nelson_Mandela',\n",
              " 'Nelson_Mandela',\n",
              " 'Nelson_Mandela',\n",
              " 'Benjamin_Netanyau',\n",
              " 'Magaret_Tarcher',\n",
              " 'Nelson_Mandela',\n",
              " 'Julia_Gillard',\n",
              " 'Benjamin_Netanyau',\n",
              " 'Nelson_Mandela',\n",
              " 'Benjamin_Netanyau',\n",
              " 'Magaret_Tarcher',\n",
              " 'Jens_Stoltenberg',\n",
              " 'Nelson_Mandela',\n",
              " 'Benjamin_Netanyau',\n",
              " 'Nelson_Mandela',\n",
              " 'Jens_Stoltenberg',\n",
              " 'Julia_Gillard',\n",
              " 'Benjamin_Netanyau',\n",
              " 'Jens_Stoltenberg',\n",
              " 'Jens_Stoltenberg',\n",
              " 'Benjamin_Netanyau',\n",
              " 'Julia_Gillard',\n",
              " 'Jens_Stoltenberg',\n",
              " 'Nelson_Mandela',\n",
              " 'Nelson_Mandela',\n",
              " 'Benjamin_Netanyau',\n",
              " 'Jens_Stoltenberg',\n",
              " 'Nelson_Mandela',\n",
              " 'Julia_Gillard',\n",
              " 'Magaret_Tarcher',\n",
              " 'Magaret_Tarcher',\n",
              " 'Nelson_Mandela',\n",
              " 'Benjamin_Netanyau',\n",
              " 'Julia_Gillard',\n",
              " 'Nelson_Mandela',\n",
              " 'Nelson_Mandela',\n",
              " 'Magaret_Tarcher',\n",
              " 'Magaret_Tarcher',\n",
              " 'Magaret_Tarcher',\n",
              " 'Julia_Gillard',\n",
              " 'Jens_Stoltenberg',\n",
              " 'Nelson_Mandela',\n",
              " 'Benjamin_Netanyau',\n",
              " 'Nelson_Mandela',\n",
              " 'Jens_Stoltenberg',\n",
              " 'Nelson_Mandela',\n",
              " 'Nelson_Mandela',\n",
              " 'Nelson_Mandela',\n",
              " 'Jens_Stoltenberg',\n",
              " 'Benjamin_Netanyau',\n",
              " 'Magaret_Tarcher',\n",
              " 'Benjamin_Netanyau',\n",
              " 'Nelson_Mandela',\n",
              " 'Julia_Gillard',\n",
              " 'Julia_Gillard',\n",
              " 'Benjamin_Netanyau',\n",
              " 'Julia_Gillard',\n",
              " 'Benjamin_Netanyau',\n",
              " 'Magaret_Tarcher',\n",
              " 'Nelson_Mandela',\n",
              " 'Nelson_Mandela',\n",
              " 'Nelson_Mandela',\n",
              " 'Nelson_Mandela',\n",
              " 'Nelson_Mandela',\n",
              " 'Nelson_Mandela',\n",
              " 'Magaret_Tarcher',\n",
              " 'Jens_Stoltenberg',\n",
              " 'Julia_Gillard',\n",
              " 'Nelson_Mandela',\n",
              " 'Nelson_Mandela',\n",
              " 'Jens_Stoltenberg',\n",
              " 'Benjamin_Netanyau',\n",
              " 'Nelson_Mandela',\n",
              " 'Julia_Gillard',\n",
              " 'Julia_Gillard',\n",
              " 'Nelson_Mandela',\n",
              " 'Nelson_Mandela',\n",
              " 'Jens_Stoltenberg',\n",
              " 'Magaret_Tarcher',\n",
              " 'Magaret_Tarcher',\n",
              " 'Benjamin_Netanyau',\n",
              " 'Benjamin_Netanyau',\n",
              " 'Magaret_Tarcher',\n",
              " 'Magaret_Tarcher',\n",
              " 'Jens_Stoltenberg',\n",
              " 'Benjamin_Netanyau',\n",
              " 'Nelson_Mandela',\n",
              " 'Julia_Gillard',\n",
              " 'Nelson_Mandela',\n",
              " 'Jens_Stoltenberg',\n",
              " 'Jens_Stoltenberg',\n",
              " 'Julia_Gillard',\n",
              " 'Julia_Gillard',\n",
              " 'Julia_Gillard',\n",
              " 'Nelson_Mandela',\n",
              " 'Nelson_Mandela',\n",
              " 'Magaret_Tarcher',\n",
              " 'Magaret_Tarcher',\n",
              " 'Julia_Gillard',\n",
              " 'Jens_Stoltenberg',\n",
              " 'Magaret_Tarcher',\n",
              " 'Julia_Gillard',\n",
              " 'Jens_Stoltenberg',\n",
              " 'Benjamin_Netanyau',\n",
              " 'Magaret_Tarcher',\n",
              " 'Julia_Gillard',\n",
              " 'Julia_Gillard',\n",
              " 'Jens_Stoltenberg',\n",
              " 'Benjamin_Netanyau',\n",
              " 'Nelson_Mandela',\n",
              " 'Benjamin_Netanyau',\n",
              " 'Nelson_Mandela',\n",
              " 'Magaret_Tarcher',\n",
              " 'Julia_Gillard',\n",
              " 'Nelson_Mandela',\n",
              " 'Benjamin_Netanyau',\n",
              " 'Magaret_Tarcher',\n",
              " 'Nelson_Mandela',\n",
              " 'Nelson_Mandela',\n",
              " 'Magaret_Tarcher',\n",
              " 'Nelson_Mandela',\n",
              " 'Magaret_Tarcher',\n",
              " 'Magaret_Tarcher',\n",
              " 'Magaret_Tarcher',\n",
              " 'Benjamin_Netanyau',\n",
              " 'Julia_Gillard',\n",
              " 'Magaret_Tarcher',\n",
              " 'Jens_Stoltenberg',\n",
              " 'Magaret_Tarcher',\n",
              " 'Magaret_Tarcher',\n",
              " 'Benjamin_Netanyau',\n",
              " 'Magaret_Tarcher',\n",
              " 'Jens_Stoltenberg',\n",
              " 'Benjamin_Netanyau',\n",
              " 'Nelson_Mandela',\n",
              " 'Julia_Gillard',\n",
              " 'Julia_Gillard',\n",
              " 'Benjamin_Netanyau',\n",
              " 'Benjamin_Netanyau',\n",
              " 'Nelson_Mandela',\n",
              " 'Benjamin_Netanyau',\n",
              " 'Julia_Gillard',\n",
              " 'Julia_Gillard',\n",
              " 'Julia_Gillard',\n",
              " 'Nelson_Mandela',\n",
              " 'Magaret_Tarcher',\n",
              " 'Benjamin_Netanyau',\n",
              " 'Nelson_Mandela',\n",
              " 'Jens_Stoltenberg',\n",
              " 'Julia_Gillard',\n",
              " 'Jens_Stoltenberg',\n",
              " 'Jens_Stoltenberg',\n",
              " 'Benjamin_Netanyau',\n",
              " 'Jens_Stoltenberg',\n",
              " 'Benjamin_Netanyau',\n",
              " 'Nelson_Mandela',\n",
              " 'Magaret_Tarcher',\n",
              " 'Magaret_Tarcher',\n",
              " 'Magaret_Tarcher',\n",
              " 'Julia_Gillard',\n",
              " 'Jens_Stoltenberg',\n",
              " 'Jens_Stoltenberg',\n",
              " 'Benjamin_Netanyau',\n",
              " 'Jens_Stoltenberg',\n",
              " 'Nelson_Mandela',\n",
              " 'Magaret_Tarcher',\n",
              " 'Julia_Gillard',\n",
              " 'Julia_Gillard',\n",
              " 'Jens_Stoltenberg',\n",
              " 'Julia_Gillard',\n",
              " 'Magaret_Tarcher',\n",
              " 'Nelson_Mandela',\n",
              " 'Benjamin_Netanyau',\n",
              " 'Magaret_Tarcher',\n",
              " 'Nelson_Mandela',\n",
              " 'Nelson_Mandela',\n",
              " 'Benjamin_Netanyau',\n",
              " 'Benjamin_Netanyau',\n",
              " 'Jens_Stoltenberg',\n",
              " 'Julia_Gillard',\n",
              " 'Benjamin_Netanyau',\n",
              " 'Nelson_Mandela',\n",
              " 'Nelson_Mandela',\n",
              " 'Nelson_Mandela',\n",
              " 'Jens_Stoltenberg',\n",
              " 'Julia_Gillard',\n",
              " 'Magaret_Tarcher',\n",
              " 'Magaret_Tarcher',\n",
              " 'Benjamin_Netanyau',\n",
              " 'Julia_Gillard',\n",
              " 'Nelson_Mandela',\n",
              " 'Magaret_Tarcher',\n",
              " 'Benjamin_Netanyau',\n",
              " 'Jens_Stoltenberg',\n",
              " 'Benjamin_Netanyau',\n",
              " 'Nelson_Mandela',\n",
              " 'Julia_Gillard',\n",
              " 'Jens_Stoltenberg',\n",
              " 'Magaret_Tarcher',\n",
              " 'Magaret_Tarcher',\n",
              " 'Magaret_Tarcher',\n",
              " 'Benjamin_Netanyau',\n",
              " 'Benjamin_Netanyau',\n",
              " 'Nelson_Mandela',\n",
              " 'Nelson_Mandela',\n",
              " 'Julia_Gillard',\n",
              " 'Benjamin_Netanyau',\n",
              " 'Nelson_Mandela',\n",
              " 'Magaret_Tarcher',\n",
              " 'Benjamin_Netanyau',\n",
              " 'Magaret_Tarcher',\n",
              " 'Magaret_Tarcher',\n",
              " 'Jens_Stoltenberg',\n",
              " 'Magaret_Tarcher',\n",
              " 'Julia_Gillard',\n",
              " 'Jens_Stoltenberg',\n",
              " 'Julia_Gillard',\n",
              " 'Jens_Stoltenberg',\n",
              " 'Nelson_Mandela',\n",
              " 'Julia_Gillard',\n",
              " 'Julia_Gillard',\n",
              " 'Magaret_Tarcher',\n",
              " 'Nelson_Mandela',\n",
              " 'Magaret_Tarcher',\n",
              " 'Magaret_Tarcher',\n",
              " 'Nelson_Mandela',\n",
              " 'Jens_Stoltenberg',\n",
              " 'Nelson_Mandela',\n",
              " 'Nelson_Mandela',\n",
              " 'Benjamin_Netanyau',\n",
              " 'Julia_Gillard',\n",
              " 'Nelson_Mandela',\n",
              " 'Benjamin_Netanyau',\n",
              " 'Benjamin_Netanyau',\n",
              " 'Julia_Gillard',\n",
              " 'Magaret_Tarcher',\n",
              " 'Nelson_Mandela',\n",
              " 'Jens_Stoltenberg',\n",
              " 'Julia_Gillard',\n",
              " 'Magaret_Tarcher',\n",
              " 'Julia_Gillard',\n",
              " 'Julia_Gillard',\n",
              " 'Julia_Gillard',\n",
              " 'Jens_Stoltenberg',\n",
              " 'Jens_Stoltenberg',\n",
              " 'Nelson_Mandela',\n",
              " 'Magaret_Tarcher',\n",
              " 'Magaret_Tarcher',\n",
              " 'Magaret_Tarcher',\n",
              " 'Julia_Gillard',\n",
              " 'Julia_Gillard',\n",
              " 'Nelson_Mandela',\n",
              " 'Magaret_Tarcher',\n",
              " 'Benjamin_Netanyau',\n",
              " 'Nelson_Mandela',\n",
              " 'Magaret_Tarcher',\n",
              " 'Julia_Gillard',\n",
              " 'Jens_Stoltenberg',\n",
              " 'Nelson_Mandela',\n",
              " 'Benjamin_Netanyau',\n",
              " 'Benjamin_Netanyau',\n",
              " 'Julia_Gillard',\n",
              " 'Magaret_Tarcher',\n",
              " 'Julia_Gillard',\n",
              " 'Nelson_Mandela',\n",
              " 'Julia_Gillard',\n",
              " 'Jens_Stoltenberg',\n",
              " 'Magaret_Tarcher',\n",
              " 'Nelson_Mandela',\n",
              " 'Julia_Gillard',\n",
              " 'Jens_Stoltenberg',\n",
              " 'Magaret_Tarcher',\n",
              " 'Benjamin_Netanyau',\n",
              " 'Benjamin_Netanyau',\n",
              " 'Magaret_Tarcher',\n",
              " 'Magaret_Tarcher',\n",
              " 'Magaret_Tarcher',\n",
              " 'Magaret_Tarcher',\n",
              " 'Jens_Stoltenberg',\n",
              " 'Benjamin_Netanyau',\n",
              " 'Benjamin_Netanyau',\n",
              " 'Magaret_Tarcher',\n",
              " 'Julia_Gillard',\n",
              " 'Julia_Gillard',\n",
              " 'Benjamin_Netanyau',\n",
              " 'Magaret_Tarcher',\n",
              " 'Nelson_Mandela',\n",
              " 'Magaret_Tarcher',\n",
              " 'Magaret_Tarcher',\n",
              " 'Julia_Gillard',\n",
              " 'Julia_Gillard',\n",
              " 'Nelson_Mandela',\n",
              " 'Benjamin_Netanyau',\n",
              " 'Julia_Gillard',\n",
              " 'Magaret_Tarcher',\n",
              " 'Jens_Stoltenberg',\n",
              " 'Julia_Gillard',\n",
              " 'Magaret_Tarcher',\n",
              " 'Julia_Gillard',\n",
              " 'Julia_Gillard',\n",
              " 'Julia_Gillard',\n",
              " 'Benjamin_Netanyau',\n",
              " 'Magaret_Tarcher',\n",
              " 'Julia_Gillard',\n",
              " 'Magaret_Tarcher',\n",
              " 'Magaret_Tarcher',\n",
              " 'Benjamin_Netanyau',\n",
              " 'Benjamin_Netanyau',\n",
              " 'Magaret_Tarcher',\n",
              " 'Julia_Gillard',\n",
              " 'Magaret_Tarcher',\n",
              " 'Magaret_Tarcher',\n",
              " 'Julia_Gillard',\n",
              " 'Benjamin_Netanyau',\n",
              " 'Julia_Gillard',\n",
              " 'Magaret_Tarcher',\n",
              " 'Benjamin_Netanyau',\n",
              " 'Magaret_Tarcher',\n",
              " 'Benjamin_Netanyau',\n",
              " 'Magaret_Tarcher',\n",
              " 'Julia_Gillard',\n",
              " 'Julia_Gillard',\n",
              " 'Benjamin_Netanyau',\n",
              " 'Benjamin_Netanyau',\n",
              " 'Magaret_Tarcher',\n",
              " 'Benjamin_Netanyau',\n",
              " 'Jens_Stoltenberg',\n",
              " 'Julia_Gillard',\n",
              " 'Nelson_Mandela',\n",
              " 'Julia_Gillard',\n",
              " 'Magaret_Tarcher',\n",
              " 'Nelson_Mandela',\n",
              " 'Nelson_Mandela',\n",
              " 'Jens_Stoltenberg',\n",
              " 'Jens_Stoltenberg',\n",
              " 'Nelson_Mandela',\n",
              " 'Nelson_Mandela',\n",
              " 'Magaret_Tarcher',\n",
              " 'Nelson_Mandela',\n",
              " 'Jens_Stoltenberg',\n",
              " 'Julia_Gillard',\n",
              " 'Benjamin_Netanyau',\n",
              " 'Nelson_Mandela',\n",
              " 'Julia_Gillard',\n",
              " 'Julia_Gillard',\n",
              " 'Magaret_Tarcher',\n",
              " 'Jens_Stoltenberg',\n",
              " 'Benjamin_Netanyau',\n",
              " 'Julia_Gillard',\n",
              " 'Magaret_Tarcher',\n",
              " 'Nelson_Mandela',\n",
              " 'Magaret_Tarcher',\n",
              " 'Benjamin_Netanyau',\n",
              " 'Julia_Gillard',\n",
              " 'Magaret_Tarcher',\n",
              " 'Benjamin_Netanyau',\n",
              " 'Benjamin_Netanyau',\n",
              " 'Julia_Gillard',\n",
              " 'Jens_Stoltenberg',\n",
              " 'Jens_Stoltenberg',\n",
              " 'Benjamin_Netanyau',\n",
              " 'Jens_Stoltenberg',\n",
              " 'Jens_Stoltenberg',\n",
              " 'Magaret_Tarcher',\n",
              " 'Julia_Gillard',\n",
              " 'Benjamin_Netanyau',\n",
              " 'Jens_Stoltenberg',\n",
              " 'Julia_Gillard',\n",
              " 'Benjamin_Netanyau',\n",
              " 'Nelson_Mandela',\n",
              " 'Nelson_Mandela',\n",
              " 'Benjamin_Netanyau',\n",
              " 'Benjamin_Netanyau',\n",
              " 'Julia_Gillard',\n",
              " 'Jens_Stoltenberg',\n",
              " 'Magaret_Tarcher',\n",
              " 'Benjamin_Netanyau',\n",
              " 'Magaret_Tarcher',\n",
              " 'Jens_Stoltenberg',\n",
              " 'Jens_Stoltenberg',\n",
              " 'Nelson_Mandela',\n",
              " 'Nelson_Mandela',\n",
              " 'Benjamin_Netanyau',\n",
              " 'Julia_Gillard',\n",
              " 'Magaret_Tarcher',\n",
              " 'Julia_Gillard',\n",
              " 'Nelson_Mandela',\n",
              " 'Magaret_Tarcher',\n",
              " 'Jens_Stoltenberg',\n",
              " 'Julia_Gillard',\n",
              " 'Magaret_Tarcher',\n",
              " 'Magaret_Tarcher',\n",
              " 'Nelson_Mandela',\n",
              " 'Nelson_Mandela',\n",
              " 'Nelson_Mandela',\n",
              " 'Nelson_Mandela',\n",
              " 'Nelson_Mandela',\n",
              " 'Magaret_Tarcher',\n",
              " 'Benjamin_Netanyau',\n",
              " 'Jens_Stoltenberg',\n",
              " 'Julia_Gillard',\n",
              " 'Magaret_Tarcher',\n",
              " 'Jens_Stoltenberg',\n",
              " 'Jens_Stoltenberg',\n",
              " 'Nelson_Mandela',\n",
              " 'Jens_Stoltenberg',\n",
              " 'Jens_Stoltenberg',\n",
              " 'Julia_Gillard',\n",
              " 'Julia_Gillard',\n",
              " 'Benjamin_Netanyau',\n",
              " 'Jens_Stoltenberg',\n",
              " 'Benjamin_Netanyau',\n",
              " 'Julia_Gillard',\n",
              " 'Benjamin_Netanyau',\n",
              " 'Nelson_Mandela',\n",
              " 'Nelson_Mandela',\n",
              " 'Jens_Stoltenberg',\n",
              " 'Nelson_Mandela',\n",
              " 'Nelson_Mandela',\n",
              " 'Julia_Gillard',\n",
              " 'Magaret_Tarcher',\n",
              " 'Jens_Stoltenberg',\n",
              " 'Magaret_Tarcher',\n",
              " 'Benjamin_Netanyau',\n",
              " 'Magaret_Tarcher',\n",
              " 'Nelson_Mandela',\n",
              " 'Jens_Stoltenberg',\n",
              " 'Magaret_Tarcher',\n",
              " 'Jens_Stoltenberg',\n",
              " 'Magaret_Tarcher',\n",
              " 'Benjamin_Netanyau',\n",
              " 'Jens_Stoltenberg',\n",
              " 'Magaret_Tarcher',\n",
              " 'Julia_Gillard',\n",
              " 'Nelson_Mandela',\n",
              " 'Julia_Gillard',\n",
              " 'Julia_Gillard',\n",
              " 'Nelson_Mandela',\n",
              " 'Magaret_Tarcher',\n",
              " 'Nelson_Mandela',\n",
              " 'Benjamin_Netanyau',\n",
              " 'Magaret_Tarcher',\n",
              " 'Benjamin_Netanyau',\n",
              " 'Nelson_Mandela',\n",
              " 'Benjamin_Netanyau',\n",
              " 'Magaret_Tarcher',\n",
              " 'Julia_Gillard',\n",
              " 'Magaret_Tarcher',\n",
              " 'Benjamin_Netanyau',\n",
              " 'Nelson_Mandela',\n",
              " 'Nelson_Mandela',\n",
              " 'Magaret_Tarcher',\n",
              " 'Julia_Gillard',\n",
              " 'Magaret_Tarcher',\n",
              " 'Benjamin_Netanyau',\n",
              " 'Benjamin_Netanyau',\n",
              " 'Magaret_Tarcher',\n",
              " 'Jens_Stoltenberg',\n",
              " 'Benjamin_Netanyau',\n",
              " 'Nelson_Mandela',\n",
              " 'Julia_Gillard',\n",
              " 'Nelson_Mandela',\n",
              " 'Nelson_Mandela',\n",
              " 'Jens_Stoltenberg',\n",
              " 'Magaret_Tarcher',\n",
              " 'Jens_Stoltenberg',\n",
              " 'Magaret_Tarcher',\n",
              " 'Julia_Gillard',\n",
              " 'Jens_Stoltenberg',\n",
              " 'Jens_Stoltenberg',\n",
              " 'Jens_Stoltenberg',\n",
              " 'Nelson_Mandela',\n",
              " 'Benjamin_Netanyau',\n",
              " 'Jens_Stoltenberg',\n",
              " 'Julia_Gillard',\n",
              " 'Magaret_Tarcher',\n",
              " 'Magaret_Tarcher',\n",
              " 'Magaret_Tarcher',\n",
              " 'Jens_Stoltenberg',\n",
              " 'Nelson_Mandela',\n",
              " 'Jens_Stoltenberg',\n",
              " 'Jens_Stoltenberg',\n",
              " 'Julia_Gillard',\n",
              " 'Jens_Stoltenberg',\n",
              " 'Julia_Gillard',\n",
              " 'Jens_Stoltenberg',\n",
              " 'Benjamin_Netanyau',\n",
              " 'Jens_Stoltenberg',\n",
              " 'Julia_Gillard',\n",
              " 'Jens_Stoltenberg',\n",
              " 'Magaret_Tarcher',\n",
              " 'Benjamin_Netanyau',\n",
              " 'Nelson_Mandela',\n",
              " 'Magaret_Tarcher',\n",
              " 'Nelson_Mandela',\n",
              " 'Julia_Gillard',\n",
              " 'Jens_Stoltenberg',\n",
              " 'Julia_Gillard',\n",
              " 'Benjamin_Netanyau',\n",
              " 'Nelson_Mandela',\n",
              " 'Magaret_Tarcher',\n",
              " 'Benjamin_Netanyau',\n",
              " 'Magaret_Tarcher',\n",
              " 'Benjamin_Netanyau',\n",
              " 'Magaret_Tarcher',\n",
              " 'Magaret_Tarcher',\n",
              " 'Jens_Stoltenberg',\n",
              " 'Magaret_Tarcher',\n",
              " 'Jens_Stoltenberg',\n",
              " 'Magaret_Tarcher',\n",
              " 'Jens_Stoltenberg',\n",
              " 'Julia_Gillard',\n",
              " 'Nelson_Mandela',\n",
              " 'Jens_Stoltenberg',\n",
              " 'Julia_Gillard',\n",
              " 'Magaret_Tarcher',\n",
              " 'Julia_Gillard',\n",
              " 'Nelson_Mandela',\n",
              " 'Jens_Stoltenberg',\n",
              " 'Julia_Gillard',\n",
              " 'Julia_Gillard',\n",
              " 'Julia_Gillard',\n",
              " 'Benjamin_Netanyau',\n",
              " 'Jens_Stoltenberg',\n",
              " 'Benjamin_Netanyau',\n",
              " 'Nelson_Mandela',\n",
              " 'Julia_Gillard',\n",
              " 'Julia_Gillard',\n",
              " 'Julia_Gillard',\n",
              " 'Benjamin_Netanyau',\n",
              " 'Magaret_Tarcher',\n",
              " 'Magaret_Tarcher',\n",
              " 'Julia_Gillard',\n",
              " 'Jens_Stoltenberg',\n",
              " 'Benjamin_Netanyau',\n",
              " 'Julia_Gillard',\n",
              " 'Benjamin_Netanyau',\n",
              " 'Jens_Stoltenberg',\n",
              " 'Julia_Gillard',\n",
              " 'Julia_Gillard',\n",
              " 'Julia_Gillard',\n",
              " 'Nelson_Mandela',\n",
              " 'Magaret_Tarcher',\n",
              " 'Jens_Stoltenberg',\n",
              " 'Benjamin_Netanyau',\n",
              " 'Benjamin_Netanyau',\n",
              " 'Magaret_Tarcher',\n",
              " 'Nelson_Mandela',\n",
              " 'Julia_Gillard',\n",
              " 'Julia_Gillard',\n",
              " 'Julia_Gillard',\n",
              " 'Jens_Stoltenberg',\n",
              " 'Magaret_Tarcher',\n",
              " 'Magaret_Tarcher',\n",
              " 'Julia_Gillard',\n",
              " 'Benjamin_Netanyau',\n",
              " 'Julia_Gillard',\n",
              " 'Benjamin_Netanyau',\n",
              " 'Magaret_Tarcher',\n",
              " 'Benjamin_Netanyau',\n",
              " 'Benjamin_Netanyau',\n",
              " 'Nelson_Mandela',\n",
              " 'Julia_Gillard',\n",
              " 'Magaret_Tarcher',\n",
              " 'Benjamin_Netanyau',\n",
              " 'Magaret_Tarcher',\n",
              " 'Benjamin_Netanyau',\n",
              " 'Nelson_Mandela',\n",
              " 'Jens_Stoltenberg',\n",
              " 'Benjamin_Netanyau',\n",
              " 'Nelson_Mandela',\n",
              " 'Benjamin_Netanyau',\n",
              " 'Benjamin_Netanyau',\n",
              " 'Jens_Stoltenberg',\n",
              " 'Julia_Gillard',\n",
              " 'Benjamin_Netanyau',\n",
              " 'Jens_Stoltenberg',\n",
              " 'Magaret_Tarcher',\n",
              " ...]"
            ]
          },
          "metadata": {},
          "execution_count": 17
        }
      ]
    },
    {
      "cell_type": "code",
      "source": [
        "from tensorflow import keras\n",
        "from keras.utils import to_categorical"
      ],
      "metadata": {
        "id": "_uKhAKft2M8e"
      },
      "execution_count": 18,
      "outputs": []
    },
    {
      "cell_type": "code",
      "source": [
        "import sklearn\n",
        "from sklearn.preprocessing import LabelEncoder"
      ],
      "metadata": {
        "id": "Oix5iBEr2ibN"
      },
      "execution_count": 19,
      "outputs": []
    },
    {
      "cell_type": "code",
      "source": [
        "objenco = LabelEncoder()"
      ],
      "metadata": {
        "id": "UlHQuOQY2tFQ"
      },
      "execution_count": 20,
      "outputs": []
    },
    {
      "cell_type": "code",
      "source": [
        "Y_raw = to_categorical(objenco.fit_transform(Y_raw))"
      ],
      "metadata": {
        "id": "deXwDo_T22fr"
      },
      "execution_count": 21,
      "outputs": []
    },
    {
      "cell_type": "code",
      "source": [
        "from sklearn.model_selection import train_test_split\n",
        "X_train , X_test , Y_train , Y_test = train_test_split(y,Y_raw,test_size=0.2,random_state = 0) "
      ],
      "metadata": {
        "id": "w3q6DbvV3KJD"
      },
      "execution_count": 22,
      "outputs": []
    },
    {
      "cell_type": "code",
      "source": [
        "Y_raw"
      ],
      "metadata": {
        "colab": {
          "base_uri": "https://localhost:8080/"
        },
        "id": "hWvmiI7x0iLd",
        "outputId": "6bc05388-0814-4912-8c04-a0ec6d8eda55"
      },
      "execution_count": 23,
      "outputs": [
        {
          "output_type": "execute_result",
          "data": {
            "text/plain": [
              "array([[0., 0., 0., 0., 1.],\n",
              "       [0., 0., 0., 0., 1.],\n",
              "       [1., 0., 0., 0., 0.],\n",
              "       ...,\n",
              "       [0., 1., 0., 0., 0.],\n",
              "       [1., 0., 0., 0., 0.],\n",
              "       [0., 1., 0., 0., 0.]], dtype=float32)"
            ]
          },
          "metadata": {},
          "execution_count": 23
        }
      ]
    },
    {
      "cell_type": "markdown",
      "source": [
        "# Model training using Neural Network"
      ],
      "metadata": {
        "id": "hwMIQznF55md"
      }
    },
    {
      "cell_type": "code",
      "source": [
        "from tensorflow import keras\n",
        "from keras import layers\n",
        "from keras.models import Sequential\n",
        "!pip install keras_tuner\n",
        "import keras_tuner\n",
        "from keras_tuner.tuners import RandomSearch"
      ],
      "metadata": {
        "colab": {
          "base_uri": "https://localhost:8080/"
        },
        "id": "IJEWP7Dfr0en",
        "outputId": "795df32c-b98e-448c-88ee-e446e2eb412f"
      },
      "execution_count": 24,
      "outputs": [
        {
          "output_type": "stream",
          "name": "stdout",
          "text": [
            "Looking in indexes: https://pypi.org/simple, https://us-python.pkg.dev/colab-wheels/public/simple/\n",
            "Collecting keras_tuner\n",
            "  Downloading keras_tuner-1.2.1-py3-none-any.whl (169 kB)\n",
            "\u001b[2K     \u001b[90m━━━━━━━━━━━━━━━━━━━━━━━━━━━━━━━━━━━━━━━\u001b[0m \u001b[32m169.6/169.6 KB\u001b[0m \u001b[31m4.1 MB/s\u001b[0m eta \u001b[36m0:00:00\u001b[0m\n",
            "\u001b[?25hCollecting kt-legacy\n",
            "  Downloading kt_legacy-1.0.4-py3-none-any.whl (9.6 kB)\n",
            "Requirement already satisfied: packaging in /usr/local/lib/python3.8/dist-packages (from keras_tuner) (23.0)\n",
            "Requirement already satisfied: requests in /usr/local/lib/python3.8/dist-packages (from keras_tuner) (2.25.1)\n",
            "Requirement already satisfied: tensorflow>=2.0 in /usr/local/lib/python3.8/dist-packages (from keras_tuner) (2.11.0)\n",
            "Requirement already satisfied: ipython in /usr/local/lib/python3.8/dist-packages (from keras_tuner) (7.9.0)\n",
            "Requirement already satisfied: h5py>=2.9.0 in /usr/local/lib/python3.8/dist-packages (from tensorflow>=2.0->keras_tuner) (3.1.0)\n",
            "Requirement already satisfied: flatbuffers>=2.0 in /usr/local/lib/python3.8/dist-packages (from tensorflow>=2.0->keras_tuner) (23.1.21)\n",
            "Requirement already satisfied: keras<2.12,>=2.11.0 in /usr/local/lib/python3.8/dist-packages (from tensorflow>=2.0->keras_tuner) (2.11.0)\n",
            "Requirement already satisfied: libclang>=13.0.0 in /usr/local/lib/python3.8/dist-packages (from tensorflow>=2.0->keras_tuner) (15.0.6.1)\n",
            "Requirement already satisfied: wrapt>=1.11.0 in /usr/local/lib/python3.8/dist-packages (from tensorflow>=2.0->keras_tuner) (1.14.1)\n",
            "Requirement already satisfied: tensorflow-estimator<2.12,>=2.11.0 in /usr/local/lib/python3.8/dist-packages (from tensorflow>=2.0->keras_tuner) (2.11.0)\n",
            "Requirement already satisfied: protobuf<3.20,>=3.9.2 in /usr/local/lib/python3.8/dist-packages (from tensorflow>=2.0->keras_tuner) (3.19.6)\n",
            "Requirement already satisfied: grpcio<2.0,>=1.24.3 in /usr/local/lib/python3.8/dist-packages (from tensorflow>=2.0->keras_tuner) (1.51.1)\n",
            "Requirement already satisfied: setuptools in /usr/local/lib/python3.8/dist-packages (from tensorflow>=2.0->keras_tuner) (57.4.0)\n",
            "Requirement already satisfied: absl-py>=1.0.0 in /usr/local/lib/python3.8/dist-packages (from tensorflow>=2.0->keras_tuner) (1.4.0)\n",
            "Requirement already satisfied: tensorboard<2.12,>=2.11 in /usr/local/lib/python3.8/dist-packages (from tensorflow>=2.0->keras_tuner) (2.11.2)\n",
            "Requirement already satisfied: tensorflow-io-gcs-filesystem>=0.23.1 in /usr/local/lib/python3.8/dist-packages (from tensorflow>=2.0->keras_tuner) (0.30.0)\n",
            "Requirement already satisfied: numpy>=1.20 in /usr/local/lib/python3.8/dist-packages (from tensorflow>=2.0->keras_tuner) (1.21.6)\n",
            "Requirement already satisfied: gast<=0.4.0,>=0.2.1 in /usr/local/lib/python3.8/dist-packages (from tensorflow>=2.0->keras_tuner) (0.4.0)\n",
            "Requirement already satisfied: google-pasta>=0.1.1 in /usr/local/lib/python3.8/dist-packages (from tensorflow>=2.0->keras_tuner) (0.2.0)\n",
            "Requirement already satisfied: astunparse>=1.6.0 in /usr/local/lib/python3.8/dist-packages (from tensorflow>=2.0->keras_tuner) (1.6.3)\n",
            "Requirement already satisfied: typing-extensions>=3.6.6 in /usr/local/lib/python3.8/dist-packages (from tensorflow>=2.0->keras_tuner) (4.4.0)\n",
            "Requirement already satisfied: six>=1.12.0 in /usr/local/lib/python3.8/dist-packages (from tensorflow>=2.0->keras_tuner) (1.15.0)\n",
            "Requirement already satisfied: termcolor>=1.1.0 in /usr/local/lib/python3.8/dist-packages (from tensorflow>=2.0->keras_tuner) (2.2.0)\n",
            "Requirement already satisfied: opt-einsum>=2.3.2 in /usr/local/lib/python3.8/dist-packages (from tensorflow>=2.0->keras_tuner) (3.3.0)\n",
            "Requirement already satisfied: pickleshare in /usr/local/lib/python3.8/dist-packages (from ipython->keras_tuner) (0.7.5)\n",
            "Requirement already satisfied: pexpect in /usr/local/lib/python3.8/dist-packages (from ipython->keras_tuner) (4.8.0)\n",
            "Requirement already satisfied: decorator in /usr/local/lib/python3.8/dist-packages (from ipython->keras_tuner) (4.4.2)\n",
            "Requirement already satisfied: traitlets>=4.2 in /usr/local/lib/python3.8/dist-packages (from ipython->keras_tuner) (5.7.1)\n",
            "Requirement already satisfied: pygments in /usr/local/lib/python3.8/dist-packages (from ipython->keras_tuner) (2.6.1)\n",
            "Requirement already satisfied: prompt-toolkit<2.1.0,>=2.0.0 in /usr/local/lib/python3.8/dist-packages (from ipython->keras_tuner) (2.0.10)\n",
            "Requirement already satisfied: backcall in /usr/local/lib/python3.8/dist-packages (from ipython->keras_tuner) (0.2.0)\n",
            "Collecting jedi>=0.10\n",
            "  Downloading jedi-0.18.2-py2.py3-none-any.whl (1.6 MB)\n",
            "\u001b[2K     \u001b[90m━━━━━━━━━━━━━━━━━━━━━━━━━━━━━━━━━━━━━━━━\u001b[0m \u001b[32m1.6/1.6 MB\u001b[0m \u001b[31m30.3 MB/s\u001b[0m eta \u001b[36m0:00:00\u001b[0m\n",
            "\u001b[?25hRequirement already satisfied: certifi>=2017.4.17 in /usr/local/lib/python3.8/dist-packages (from requests->keras_tuner) (2022.12.7)\n",
            "Requirement already satisfied: chardet<5,>=3.0.2 in /usr/local/lib/python3.8/dist-packages (from requests->keras_tuner) (4.0.0)\n",
            "Requirement already satisfied: idna<3,>=2.5 in /usr/local/lib/python3.8/dist-packages (from requests->keras_tuner) (2.10)\n",
            "Requirement already satisfied: urllib3<1.27,>=1.21.1 in /usr/local/lib/python3.8/dist-packages (from requests->keras_tuner) (1.24.3)\n",
            "Requirement already satisfied: wheel<1.0,>=0.23.0 in /usr/local/lib/python3.8/dist-packages (from astunparse>=1.6.0->tensorflow>=2.0->keras_tuner) (0.38.4)\n",
            "Requirement already satisfied: parso<0.9.0,>=0.8.0 in /usr/local/lib/python3.8/dist-packages (from jedi>=0.10->ipython->keras_tuner) (0.8.3)\n",
            "Requirement already satisfied: wcwidth in /usr/local/lib/python3.8/dist-packages (from prompt-toolkit<2.1.0,>=2.0.0->ipython->keras_tuner) (0.2.6)\n",
            "Requirement already satisfied: markdown>=2.6.8 in /usr/local/lib/python3.8/dist-packages (from tensorboard<2.12,>=2.11->tensorflow>=2.0->keras_tuner) (3.4.1)\n",
            "Requirement already satisfied: tensorboard-plugin-wit>=1.6.0 in /usr/local/lib/python3.8/dist-packages (from tensorboard<2.12,>=2.11->tensorflow>=2.0->keras_tuner) (1.8.1)\n",
            "Requirement already satisfied: werkzeug>=1.0.1 in /usr/local/lib/python3.8/dist-packages (from tensorboard<2.12,>=2.11->tensorflow>=2.0->keras_tuner) (1.0.1)\n",
            "Requirement already satisfied: google-auth<3,>=1.6.3 in /usr/local/lib/python3.8/dist-packages (from tensorboard<2.12,>=2.11->tensorflow>=2.0->keras_tuner) (2.16.0)\n",
            "Requirement already satisfied: tensorboard-data-server<0.7.0,>=0.6.0 in /usr/local/lib/python3.8/dist-packages (from tensorboard<2.12,>=2.11->tensorflow>=2.0->keras_tuner) (0.6.1)\n",
            "Requirement already satisfied: google-auth-oauthlib<0.5,>=0.4.1 in /usr/local/lib/python3.8/dist-packages (from tensorboard<2.12,>=2.11->tensorflow>=2.0->keras_tuner) (0.4.6)\n",
            "Requirement already satisfied: ptyprocess>=0.5 in /usr/local/lib/python3.8/dist-packages (from pexpect->ipython->keras_tuner) (0.7.0)\n",
            "Requirement already satisfied: pyasn1-modules>=0.2.1 in /usr/local/lib/python3.8/dist-packages (from google-auth<3,>=1.6.3->tensorboard<2.12,>=2.11->tensorflow>=2.0->keras_tuner) (0.2.8)\n",
            "Requirement already satisfied: cachetools<6.0,>=2.0.0 in /usr/local/lib/python3.8/dist-packages (from google-auth<3,>=1.6.3->tensorboard<2.12,>=2.11->tensorflow>=2.0->keras_tuner) (5.3.0)\n",
            "Requirement already satisfied: rsa<5,>=3.1.4 in /usr/local/lib/python3.8/dist-packages (from google-auth<3,>=1.6.3->tensorboard<2.12,>=2.11->tensorflow>=2.0->keras_tuner) (4.9)\n",
            "Requirement already satisfied: requests-oauthlib>=0.7.0 in /usr/local/lib/python3.8/dist-packages (from google-auth-oauthlib<0.5,>=0.4.1->tensorboard<2.12,>=2.11->tensorflow>=2.0->keras_tuner) (1.3.1)\n",
            "Requirement already satisfied: importlib-metadata>=4.4 in /usr/local/lib/python3.8/dist-packages (from markdown>=2.6.8->tensorboard<2.12,>=2.11->tensorflow>=2.0->keras_tuner) (6.0.0)\n",
            "Requirement already satisfied: zipp>=0.5 in /usr/local/lib/python3.8/dist-packages (from importlib-metadata>=4.4->markdown>=2.6.8->tensorboard<2.12,>=2.11->tensorflow>=2.0->keras_tuner) (3.12.1)\n",
            "Requirement already satisfied: pyasn1<0.5.0,>=0.4.6 in /usr/local/lib/python3.8/dist-packages (from pyasn1-modules>=0.2.1->google-auth<3,>=1.6.3->tensorboard<2.12,>=2.11->tensorflow>=2.0->keras_tuner) (0.4.8)\n",
            "Requirement already satisfied: oauthlib>=3.0.0 in /usr/local/lib/python3.8/dist-packages (from requests-oauthlib>=0.7.0->google-auth-oauthlib<0.5,>=0.4.1->tensorboard<2.12,>=2.11->tensorflow>=2.0->keras_tuner) (3.2.2)\n",
            "Installing collected packages: kt-legacy, jedi, keras_tuner\n",
            "Successfully installed jedi-0.18.2 keras_tuner-1.2.1 kt-legacy-1.0.4\n"
          ]
        }
      ]
    },
    {
      "cell_type": "code",
      "source": [
        "X_train.shape\n",
        "Y_train.shape"
      ],
      "metadata": {
        "colab": {
          "base_uri": "https://localhost:8080/"
        },
        "id": "32SmFUnhv2xX",
        "outputId": "8782c483-f6b9-40ad-ea4a-bd6a7f6c4bd4"
      },
      "execution_count": 25,
      "outputs": [
        {
          "output_type": "execute_result",
          "data": {
            "text/plain": [
              "(5798, 5)"
            ]
          },
          "metadata": {},
          "execution_count": 25
        }
      ]
    },
    {
      "cell_type": "code",
      "source": [
        "def model_test(hp):\n",
        "  model = Sequential()\n",
        "  #base layer of our model\n",
        "  model.add(layers.Dense(units = hp.Int('units' ,\n",
        "                                        min_value = 10 ,\n",
        "                                        max_value = 512 ,\n",
        "                                        step = 64),\n",
        "                          activation = 'relu' ,\n",
        "                          input_shape = (13 ,)))\n",
        "  \n",
        "  #second layer of our model\n",
        "  model.add(layers.Dense(units = hp.Int('units' ,\n",
        "                                        min_value = 10 ,\n",
        "                                        max_value = 512 ,\n",
        "                                        step = 64),\n",
        "                          activation = 'relu'))  \n",
        "\n",
        "  #third layer of our model\n",
        "  model.add(layers.Dense(units = hp.Int('units' ,\n",
        "                                        min_value = 10 ,\n",
        "                                        max_value = 512 ,\n",
        "                                        step = 64),\n",
        "                          activation = 'relu'))  \n",
        "  #final layer\n",
        "  model.add(layers.Dense(units = 5 , activation = 'softmax'))\n",
        "\n",
        "\n",
        "  #compiling model\n",
        "  model.compile(optimizer = keras.optimizers.Adam(hp.Choice('learning_rate' , values = [1e-2 , 1e-3 , 1e-4])),\n",
        "                loss = 'categorical_crossentropy',\n",
        "                metrics = ['accuracy'])\n",
        "  return model"
      ],
      "metadata": {
        "id": "UDVFzSsRr7fQ"
      },
      "execution_count": 26,
      "outputs": []
    },
    {
      "cell_type": "code",
      "source": [
        "tuner = RandomSearch(\n",
        "    model_test,\n",
        "    objective = 'val_accuracy',\n",
        "    max_trials= 3,\n",
        "    project_name = 'speaker_prediction'\n",
        ")"
      ],
      "metadata": {
        "id": "RrOJRplWu5tO"
      },
      "execution_count": 29,
      "outputs": []
    },
    {
      "cell_type": "code",
      "source": [
        "tuner.search(X_train , Y_train , epochs = 100 , validation_data = (X_test , Y_test))"
      ],
      "metadata": {
        "id": "1BtWq7duvWZV",
        "colab": {
          "base_uri": "https://localhost:8080/"
        },
        "outputId": "06ffc757-496b-43f9-9dba-c36a15f0a47e"
      },
      "execution_count": 30,
      "outputs": [
        {
          "output_type": "stream",
          "name": "stdout",
          "text": [
            "Trial 3 Complete [00h 02m 23s]\n",
            "val_accuracy: 0.9910345077514648\n",
            "\n",
            "Best val_accuracy So Far: 0.9924138188362122\n",
            "Total elapsed time: 00h 08m 11s\n"
          ]
        }
      ]
    },
    {
      "cell_type": "code",
      "source": [
        "tuner.search_space_summary"
      ],
      "metadata": {
        "colab": {
          "base_uri": "https://localhost:8080/"
        },
        "id": "07A2Afq7Ysde",
        "outputId": "c943f5ad-663b-47fb-d224-31a1dac9c4c4"
      },
      "execution_count": null,
      "outputs": [
        {
          "output_type": "execute_result",
          "data": {
            "text/plain": [
              "<bound method BaseTuner.search_space_summary of <keras_tuner.tuners.randomsearch.RandomSearch object at 0x7fd13c7adeb0>>"
            ]
          },
          "metadata": {},
          "execution_count": 128
        }
      ]
    },
    {
      "cell_type": "code",
      "source": [
        "finalframes.head()"
      ],
      "metadata": {
        "colab": {
          "base_uri": "https://localhost:8080/",
          "height": 206
        },
        "id": "-P8YWYxiM4aw",
        "outputId": "b0dcec43-08fa-46ae-8da7-f1cb1e13de66"
      },
      "execution_count": null,
      "outputs": [
        {
          "output_type": "execute_result",
          "data": {
            "text/plain": [
              "                                          voicefeatures            speaker\n",
              "447   [-90.76863, 98.95256, -45.84049, 83.491486, -4...     Nelson_Mandela\n",
              "154   [-91.04241, 133.87482, -61.947525, 51.952103, ...      Julia_Gillard\n",
              "1114  [-131.9232, 164.75073, -67.549675, 45.510338, ...  Benjamin_Netanyau\n",
              "1234  [-161.01068, 116.54477, -65.57888, 65.46923, -...  Benjamin_Netanyau\n",
              "640   [-55.207703, 184.21718, -153.78575, 27.41021, ...    Magaret_Tarcher"
            ],
            "text/html": [
              "\n",
              "  <div id=\"df-b893bb5e-e710-41fa-9f77-8ac0a3e71860\">\n",
              "    <div class=\"colab-df-container\">\n",
              "      <div>\n",
              "<style scoped>\n",
              "    .dataframe tbody tr th:only-of-type {\n",
              "        vertical-align: middle;\n",
              "    }\n",
              "\n",
              "    .dataframe tbody tr th {\n",
              "        vertical-align: top;\n",
              "    }\n",
              "\n",
              "    .dataframe thead th {\n",
              "        text-align: right;\n",
              "    }\n",
              "</style>\n",
              "<table border=\"1\" class=\"dataframe\">\n",
              "  <thead>\n",
              "    <tr style=\"text-align: right;\">\n",
              "      <th></th>\n",
              "      <th>voicefeatures</th>\n",
              "      <th>speaker</th>\n",
              "    </tr>\n",
              "  </thead>\n",
              "  <tbody>\n",
              "    <tr>\n",
              "      <th>447</th>\n",
              "      <td>[-90.76863, 98.95256, -45.84049, 83.491486, -4...</td>\n",
              "      <td>Nelson_Mandela</td>\n",
              "    </tr>\n",
              "    <tr>\n",
              "      <th>154</th>\n",
              "      <td>[-91.04241, 133.87482, -61.947525, 51.952103, ...</td>\n",
              "      <td>Julia_Gillard</td>\n",
              "    </tr>\n",
              "    <tr>\n",
              "      <th>1114</th>\n",
              "      <td>[-131.9232, 164.75073, -67.549675, 45.510338, ...</td>\n",
              "      <td>Benjamin_Netanyau</td>\n",
              "    </tr>\n",
              "    <tr>\n",
              "      <th>1234</th>\n",
              "      <td>[-161.01068, 116.54477, -65.57888, 65.46923, -...</td>\n",
              "      <td>Benjamin_Netanyau</td>\n",
              "    </tr>\n",
              "    <tr>\n",
              "      <th>640</th>\n",
              "      <td>[-55.207703, 184.21718, -153.78575, 27.41021, ...</td>\n",
              "      <td>Magaret_Tarcher</td>\n",
              "    </tr>\n",
              "  </tbody>\n",
              "</table>\n",
              "</div>\n",
              "      <button class=\"colab-df-convert\" onclick=\"convertToInteractive('df-b893bb5e-e710-41fa-9f77-8ac0a3e71860')\"\n",
              "              title=\"Convert this dataframe to an interactive table.\"\n",
              "              style=\"display:none;\">\n",
              "        \n",
              "  <svg xmlns=\"http://www.w3.org/2000/svg\" height=\"24px\"viewBox=\"0 0 24 24\"\n",
              "       width=\"24px\">\n",
              "    <path d=\"M0 0h24v24H0V0z\" fill=\"none\"/>\n",
              "    <path d=\"M18.56 5.44l.94 2.06.94-2.06 2.06-.94-2.06-.94-.94-2.06-.94 2.06-2.06.94zm-11 1L8.5 8.5l.94-2.06 2.06-.94-2.06-.94L8.5 2.5l-.94 2.06-2.06.94zm10 10l.94 2.06.94-2.06 2.06-.94-2.06-.94-.94-2.06-.94 2.06-2.06.94z\"/><path d=\"M17.41 7.96l-1.37-1.37c-.4-.4-.92-.59-1.43-.59-.52 0-1.04.2-1.43.59L10.3 9.45l-7.72 7.72c-.78.78-.78 2.05 0 2.83L4 21.41c.39.39.9.59 1.41.59.51 0 1.02-.2 1.41-.59l7.78-7.78 2.81-2.81c.8-.78.8-2.07 0-2.86zM5.41 20L4 18.59l7.72-7.72 1.47 1.35L5.41 20z\"/>\n",
              "  </svg>\n",
              "      </button>\n",
              "      \n",
              "  <style>\n",
              "    .colab-df-container {\n",
              "      display:flex;\n",
              "      flex-wrap:wrap;\n",
              "      gap: 12px;\n",
              "    }\n",
              "\n",
              "    .colab-df-convert {\n",
              "      background-color: #E8F0FE;\n",
              "      border: none;\n",
              "      border-radius: 50%;\n",
              "      cursor: pointer;\n",
              "      display: none;\n",
              "      fill: #1967D2;\n",
              "      height: 32px;\n",
              "      padding: 0 0 0 0;\n",
              "      width: 32px;\n",
              "    }\n",
              "\n",
              "    .colab-df-convert:hover {\n",
              "      background-color: #E2EBFA;\n",
              "      box-shadow: 0px 1px 2px rgba(60, 64, 67, 0.3), 0px 1px 3px 1px rgba(60, 64, 67, 0.15);\n",
              "      fill: #174EA6;\n",
              "    }\n",
              "\n",
              "    [theme=dark] .colab-df-convert {\n",
              "      background-color: #3B4455;\n",
              "      fill: #D2E3FC;\n",
              "    }\n",
              "\n",
              "    [theme=dark] .colab-df-convert:hover {\n",
              "      background-color: #434B5C;\n",
              "      box-shadow: 0px 1px 3px 1px rgba(0, 0, 0, 0.15);\n",
              "      filter: drop-shadow(0px 1px 2px rgba(0, 0, 0, 0.3));\n",
              "      fill: #FFFFFF;\n",
              "    }\n",
              "  </style>\n",
              "\n",
              "      <script>\n",
              "        const buttonEl =\n",
              "          document.querySelector('#df-b893bb5e-e710-41fa-9f77-8ac0a3e71860 button.colab-df-convert');\n",
              "        buttonEl.style.display =\n",
              "          google.colab.kernel.accessAllowed ? 'block' : 'none';\n",
              "\n",
              "        async function convertToInteractive(key) {\n",
              "          const element = document.querySelector('#df-b893bb5e-e710-41fa-9f77-8ac0a3e71860');\n",
              "          const dataTable =\n",
              "            await google.colab.kernel.invokeFunction('convertToInteractive',\n",
              "                                                     [key], {});\n",
              "          if (!dataTable) return;\n",
              "\n",
              "          const docLinkHtml = 'Like what you see? Visit the ' +\n",
              "            '<a target=\"_blank\" href=https://colab.research.google.com/notebooks/data_table.ipynb>data table notebook</a>'\n",
              "            + ' to learn more about interactive tables.';\n",
              "          element.innerHTML = '';\n",
              "          dataTable['output_type'] = 'display_data';\n",
              "          await google.colab.output.renderOutput(dataTable, element);\n",
              "          const docLink = document.createElement('div');\n",
              "          docLink.innerHTML = docLinkHtml;\n",
              "          element.appendChild(docLink);\n",
              "        }\n",
              "      </script>\n",
              "    </div>\n",
              "  </div>\n",
              "  "
            ]
          },
          "metadata": {},
          "execution_count": 124
        }
      ]
    },
    {
      "cell_type": "markdown",
      "source": [
        "# Saving model with most optimal hyperparameter"
      ],
      "metadata": {
        "id": "Ph2a7eOV5KkY"
      }
    },
    {
      "cell_type": "code",
      "source": [
        "best_model = tuner.get_best_models()[0]\n"
      ],
      "metadata": {
        "id": "eu5BmjpWw09H",
        "colab": {
          "base_uri": "https://localhost:8080/"
        },
        "outputId": "295f57ec-479e-44a6-8f95-4a1839a67254"
      },
      "execution_count": null,
      "outputs": [
        {
          "output_type": "stream",
          "name": "stderr",
          "text": [
            "WARNING:tensorflow:Detecting that an object or model or tf.train.Checkpoint is being deleted with unrestored values. See the following logs for the specific values in question. To silence these warnings, use `status.expect_partial()`. See https://www.tensorflow.org/api_docs/python/tf/train/Checkpoint#restorefor details about the status object returned by the restore function.\n",
            "WARNING:tensorflow:Value in checkpoint could not be found in the restored object: (root).optimizer.iter\n",
            "WARNING:tensorflow:Value in checkpoint could not be found in the restored object: (root).optimizer.beta_1\n",
            "WARNING:tensorflow:Value in checkpoint could not be found in the restored object: (root).optimizer.beta_2\n",
            "WARNING:tensorflow:Value in checkpoint could not be found in the restored object: (root).optimizer.decay\n",
            "WARNING:tensorflow:Value in checkpoint could not be found in the restored object: (root).optimizer.learning_rate\n"
          ]
        }
      ]
    },
    {
      "cell_type": "code",
      "source": [
        "from keras.models import load_model"
      ],
      "metadata": {
        "id": "s_24oaGtea-H"
      },
      "execution_count": null,
      "outputs": []
    },
    {
      "cell_type": "code",
      "source": [
        "best_model.save('/content/drive/MyDrive/finalspeaker_pred.h5')"
      ],
      "metadata": {
        "id": "7BLVNbawen6U"
      },
      "execution_count": null,
      "outputs": []
    },
    {
      "cell_type": "markdown",
      "source": [
        "# predicting for single testaudio"
      ],
      "metadata": {
        "id": "HdzuPYN-OAci"
      }
    },
    {
      "cell_type": "code",
      "source": [
        "testlocation = '/content/drive/MyDrive/Nelson Mandela Speech - Freedom and Justice.mp3'"
      ],
      "metadata": {
        "id": "VsY4pypIOGaB"
      },
      "execution_count": null,
      "outputs": []
    },
    {
      "cell_type": "code",
      "source": [
        "!pip install pydub\n",
        "from pydub import AudioSegment"
      ],
      "metadata": {
        "colab": {
          "base_uri": "https://localhost:8080/"
        },
        "id": "zg7RfhnFOPAo",
        "outputId": "c94703d6-0e49-4ae4-e341-11c509f04a63"
      },
      "execution_count": null,
      "outputs": [
        {
          "output_type": "stream",
          "name": "stdout",
          "text": [
            "Looking in indexes: https://pypi.org/simple, https://us-python.pkg.dev/colab-wheels/public/simple/\n",
            "Collecting pydub\n",
            "  Downloading pydub-0.25.1-py2.py3-none-any.whl (32 kB)\n",
            "Installing collected packages: pydub\n",
            "Successfully installed pydub-0.25.1\n"
          ]
        }
      ]
    },
    {
      "cell_type": "code",
      "source": [
        "mysound = AudioSegment.from_mp3(testlocation)\n",
        "AudioSegment.converter = 'ffmpeg.exe'\n",
        "AudioSegment.ffmpeg = 'ffmpeg.exe'\n",
        "AudioSegment.ffprobe = 'ffprobe.exe'"
      ],
      "metadata": {
        "id": "8nq87nx6O_9I"
      },
      "execution_count": null,
      "outputs": []
    },
    {
      "cell_type": "code",
      "source": [
        "startmin = 5\n",
        "startsec = 11\n",
        "endmin = 5\n",
        "endsec = 12\n",
        "starttime = startmin*60*1000 + startsec*1000\n",
        "endtime = endmin*60*1000 + endsec*1000\n"
      ],
      "metadata": {
        "id": "3EytpvIaPrMO"
      },
      "execution_count": null,
      "outputs": []
    },
    {
      "cell_type": "code",
      "source": [
        "get_sound = mysound[starttime : endtime]"
      ],
      "metadata": {
        "id": "YwoKcEn5QW63"
      },
      "execution_count": null,
      "outputs": []
    },
    {
      "cell_type": "code",
      "source": [
        "output_file = '/content/drive/MyDrive/testing1audio.wav'\n",
        "get_sound.export(output_file, format=\"wav\")"
      ],
      "metadata": {
        "colab": {
          "base_uri": "https://localhost:8080/"
        },
        "id": "LiP8AoFSQdl9",
        "outputId": "2438edc7-999a-4e48-f3f7-3f8be639960f"
      },
      "execution_count": null,
      "outputs": [
        {
          "output_type": "execute_result",
          "data": {
            "text/plain": [
              "<_io.BufferedRandom name='/content/drive/MyDrive/testing1audio.wav'>"
            ]
          },
          "metadata": {},
          "execution_count": 100
        }
      ]
    },
    {
      "cell_type": "code",
      "source": [
        "finaltest = '/content/drive/MyDrive/testing1audio.wav'\n",
        "ipd.Audio(finaltest)"
      ],
      "metadata": {
        "colab": {
          "base_uri": "https://localhost:8080/",
          "height": 75
        },
        "id": "ub0e2WkKQhrJ",
        "outputId": "b36f8b0e-217f-40ac-9d8a-a62540528435"
      },
      "execution_count": null,
      "outputs": [
        {
          "output_type": "execute_result",
          "data": {
            "text/plain": [
              "<IPython.lib.display.Audio object>"
            ],
            "text/html": [
              "\n",
              "                <audio  controls=\"controls\" >\n",
              "                    <source src=\"data:audio/x-wav;base64,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\" type=\"audio/x-wav\" />\n",
              "                    Your browser does not support the audio element.\n",
              "                </audio>\n",
              "              "
            ]
          },
          "metadata": {},
          "execution_count": 101
        }
      ]
    },
    {
      "cell_type": "code",
      "source": [
        "u = '/content/drive/MyDrive/finaldataset/finaldataset/Julia_Gillard/11.wav'"
      ],
      "metadata": {
        "id": "ydhfGtFnTyHk"
      },
      "execution_count": null,
      "outputs": []
    },
    {
      "cell_type": "code",
      "source": [
        "audio2, sample_rate2 = librosa.load(u, res_type='kaiser_fast') \n",
        "mfccs_features = librosa.feature.mfcc(y=audio2, sr=sample_rate2, n_mfcc=13)\n",
        "mfccs_scaled_features1 = np.mean(mfccs_features.T,axis=0)\n",
        "mfccs_scaled_features1=mfccs_scaled_features1.reshape(1,-1)\n",
        "predictmyaudio = best_model.predict(mfccs_scaled_features1)"
      ],
      "metadata": {
        "colab": {
          "base_uri": "https://localhost:8080/"
        },
        "id": "-Hh3GdnWRce3",
        "outputId": "2c4f0385-0224-4dd9-c8a7-e102315fdb15"
      },
      "execution_count": null,
      "outputs": [
        {
          "output_type": "stream",
          "name": "stdout",
          "text": [
            "1/1 [==============================] - 0s 40ms/step\n"
          ]
        }
      ]
    },
    {
      "cell_type": "code",
      "source": [
        "classes_x=np.argmax(predictmyaudio,axis=1)"
      ],
      "metadata": {
        "id": "iCqJ1MQBSfJl"
      },
      "execution_count": null,
      "outputs": []
    },
    {
      "cell_type": "code",
      "source": [
        "prediction_class = objenco.inverse_transform(classes_x)"
      ],
      "metadata": {
        "id": "UKO9HJrzSmqG"
      },
      "execution_count": null,
      "outputs": []
    },
    {
      "cell_type": "code",
      "source": [
        "prediction_class"
      ],
      "metadata": {
        "colab": {
          "base_uri": "https://localhost:8080/"
        },
        "id": "9x8hiOHbSvn0",
        "outputId": "6e22f9b9-6304-48e5-baec-83741b2477b0"
      },
      "execution_count": null,
      "outputs": [
        {
          "output_type": "execute_result",
          "data": {
            "text/plain": [
              "array(['Julia_Gillard'], dtype='<U17')"
            ]
          },
          "metadata": {},
          "execution_count": 110
        }
      ]
    },
    {
      "cell_type": "code",
      "source": [
        "finalframes.shape"
      ],
      "metadata": {
        "colab": {
          "base_uri": "https://localhost:8080/"
        },
        "id": "JvskA1i8S6Hk",
        "outputId": "694e4b13-be9a-4418-c09e-84ace48219dc"
      },
      "execution_count": null,
      "outputs": [
        {
          "output_type": "execute_result",
          "data": {
            "text/plain": [
              "(7248, 2)"
            ]
          },
          "metadata": {},
          "execution_count": 129
        }
      ]
    },
    {
      "cell_type": "code",
      "source": [],
      "metadata": {
        "id": "0_ZIsIV5Za6m"
      },
      "execution_count": null,
      "outputs": []
    }
  ]
}